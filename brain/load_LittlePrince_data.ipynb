{
  "cells": [
    {
      "attachments": {},
      "cell_type": "markdown",
      "metadata": {
        "id": "Dd7weow3oC4V"
      },
      "source": [
        "# Loading Le Petit Prince data\n",
        "_by Marianne de Heer Kloots, Oct 2022 (last edited: Apr 2023)_\n",
        "\n",
        "(for [Advanced Neural & Cognitive Modelling](https://clclab.github.io/ANCM/intro.html))\n",
        "\n",
        "Some example code for downloading and dealing with data from the [Le Petit Prince](https://openneuro.org/datasets/ds003643/versions/2.0.1) multilingual naturalistic fMRI corpus ([Li et al., 2022](https://doi.org/10.1038/s41597-022-01625-7))."
      ]
    },
    {
      "cell_type": "code",
      "execution_count": 4,
      "metadata": {},
      "outputs": [
        {
          "name": "stdout",
          "output_type": "stream",
          "text": [
            "Requirement already satisfied: ipywidgets in /home/lcur1142/.conda/envs/brain/lib/python3.8/site-packages (8.0.6)\n",
            "Collecting matplotlib\n",
            "  Using cached matplotlib-3.7.1-cp38-cp38-manylinux_2_12_x86_64.manylinux2010_x86_64.whl (9.2 MB)\n",
            "Requirement already satisfied: jupyterlab-widgets~=3.0.7 in /home/lcur1142/.conda/envs/brain/lib/python3.8/site-packages (from ipywidgets) (3.0.7)\n",
            "Requirement already satisfied: ipython>=6.1.0 in /home/lcur1142/.conda/envs/brain/lib/python3.8/site-packages (from ipywidgets) (8.12.2)\n",
            "Requirement already satisfied: widgetsnbextension~=4.0.7 in /home/lcur1142/.conda/envs/brain/lib/python3.8/site-packages (from ipywidgets) (4.0.7)\n",
            "Requirement already satisfied: traitlets>=4.3.1 in /home/lcur1142/.conda/envs/brain/lib/python3.8/site-packages (from ipywidgets) (5.9.0)\n",
            "Requirement already satisfied: ipykernel>=4.5.1 in /home/lcur1142/.conda/envs/brain/lib/python3.8/site-packages (from ipywidgets) (6.23.0)\n",
            "Collecting kiwisolver>=1.0.1\n",
            "  Using cached kiwisolver-1.4.4-cp38-cp38-manylinux_2_5_x86_64.manylinux1_x86_64.whl (1.2 MB)\n",
            "Requirement already satisfied: importlib-resources>=3.2.0 in /home/lcur1142/.conda/envs/brain/lib/python3.8/site-packages (from matplotlib) (5.12.0)\n",
            "Requirement already satisfied: python-dateutil>=2.7 in /home/lcur1142/.conda/envs/brain/lib/python3.8/site-packages (from matplotlib) (2.8.2)\n",
            "Requirement already satisfied: packaging>=20.0 in /home/lcur1142/.conda/envs/brain/lib/python3.8/site-packages (from matplotlib) (23.1)\n",
            "Requirement already satisfied: numpy>=1.20 in /home/lcur1142/.conda/envs/brain/lib/python3.8/site-packages (from matplotlib) (1.24.3)\n",
            "Collecting contourpy>=1.0.1\n",
            "  Using cached contourpy-1.0.7-cp38-cp38-manylinux_2_17_x86_64.manylinux2014_x86_64.whl (300 kB)\n",
            "Collecting fonttools>=4.22.0\n",
            "  Using cached fonttools-4.39.3-py3-none-any.whl (1.0 MB)\n",
            "Collecting cycler>=0.10\n",
            "  Using cached cycler-0.11.0-py3-none-any.whl (6.4 kB)\n",
            "Collecting pyparsing>=2.3.1\n",
            "  Using cached pyparsing-3.0.9-py3-none-any.whl (98 kB)\n",
            "Collecting pillow>=6.2.0\n",
            "  Using cached Pillow-9.5.0-cp38-cp38-manylinux_2_28_x86_64.whl (3.4 MB)\n",
            "Requirement already satisfied: zipp>=3.1.0 in /home/lcur1142/.conda/envs/brain/lib/python3.8/site-packages (from importlib-resources>=3.2.0->matplotlib) (3.15.0)\n",
            "Requirement already satisfied: matplotlib-inline>=0.1 in /home/lcur1142/.conda/envs/brain/lib/python3.8/site-packages (from ipykernel>=4.5.1->ipywidgets) (0.1.6)\n",
            "Requirement already satisfied: debugpy>=1.6.5 in /home/lcur1142/.conda/envs/brain/lib/python3.8/site-packages (from ipykernel>=4.5.1->ipywidgets) (1.6.7)\n",
            "Requirement already satisfied: nest-asyncio in /home/lcur1142/.conda/envs/brain/lib/python3.8/site-packages (from ipykernel>=4.5.1->ipywidgets) (1.5.6)\n",
            "Requirement already satisfied: comm>=0.1.1 in /home/lcur1142/.conda/envs/brain/lib/python3.8/site-packages (from ipykernel>=4.5.1->ipywidgets) (0.1.3)\n",
            "Requirement already satisfied: pyzmq>=20 in /home/lcur1142/.conda/envs/brain/lib/python3.8/site-packages (from ipykernel>=4.5.1->ipywidgets) (25.0.2)\n",
            "Requirement already satisfied: tornado>=6.1 in /home/lcur1142/.conda/envs/brain/lib/python3.8/site-packages (from ipykernel>=4.5.1->ipywidgets) (6.3.1)\n",
            "Requirement already satisfied: jupyter-core!=5.0.*,>=4.12 in /home/lcur1142/.conda/envs/brain/lib/python3.8/site-packages (from ipykernel>=4.5.1->ipywidgets) (5.3.0)\n",
            "Requirement already satisfied: jupyter-client>=6.1.12 in /home/lcur1142/.conda/envs/brain/lib/python3.8/site-packages (from ipykernel>=4.5.1->ipywidgets) (8.2.0)\n",
            "Requirement already satisfied: psutil in /home/lcur1142/.conda/envs/brain/lib/python3.8/site-packages (from ipykernel>=4.5.1->ipywidgets) (5.9.5)\n",
            "Requirement already satisfied: pickleshare in /home/lcur1142/.conda/envs/brain/lib/python3.8/site-packages (from ipython>=6.1.0->ipywidgets) (0.7.5)\n",
            "Requirement already satisfied: pygments>=2.4.0 in /home/lcur1142/.conda/envs/brain/lib/python3.8/site-packages (from ipython>=6.1.0->ipywidgets) (2.15.1)\n",
            "Requirement already satisfied: stack-data in /home/lcur1142/.conda/envs/brain/lib/python3.8/site-packages (from ipython>=6.1.0->ipywidgets) (0.6.2)\n",
            "Requirement already satisfied: pexpect>4.3 in /home/lcur1142/.conda/envs/brain/lib/python3.8/site-packages (from ipython>=6.1.0->ipywidgets) (4.8.0)\n",
            "Requirement already satisfied: decorator in /home/lcur1142/.conda/envs/brain/lib/python3.8/site-packages (from ipython>=6.1.0->ipywidgets) (5.1.1)\n",
            "Requirement already satisfied: prompt-toolkit!=3.0.37,<3.1.0,>=3.0.30 in /home/lcur1142/.conda/envs/brain/lib/python3.8/site-packages (from ipython>=6.1.0->ipywidgets) (3.0.38)\n",
            "Requirement already satisfied: jedi>=0.16 in /home/lcur1142/.conda/envs/brain/lib/python3.8/site-packages (from ipython>=6.1.0->ipywidgets) (0.18.2)\n",
            "Requirement already satisfied: backcall in /home/lcur1142/.conda/envs/brain/lib/python3.8/site-packages (from ipython>=6.1.0->ipywidgets) (0.2.0)\n",
            "Requirement already satisfied: typing-extensions in /home/lcur1142/.conda/envs/brain/lib/python3.8/site-packages (from ipython>=6.1.0->ipywidgets) (4.5.0)\n",
            "Requirement already satisfied: six>=1.5 in /home/lcur1142/.conda/envs/brain/lib/python3.8/site-packages (from python-dateutil>=2.7->matplotlib) (1.16.0)\n",
            "Requirement already satisfied: parso<0.9.0,>=0.8.0 in /home/lcur1142/.conda/envs/brain/lib/python3.8/site-packages (from jedi>=0.16->ipython>=6.1.0->ipywidgets) (0.8.3)\n",
            "Requirement already satisfied: importlib-metadata>=4.8.3 in /home/lcur1142/.conda/envs/brain/lib/python3.8/site-packages (from jupyter-client>=6.1.12->ipykernel>=4.5.1->ipywidgets) (6.6.0)\n",
            "Requirement already satisfied: platformdirs>=2.5 in /home/lcur1142/.conda/envs/brain/lib/python3.8/site-packages (from jupyter-core!=5.0.*,>=4.12->ipykernel>=4.5.1->ipywidgets) (3.5.0)\n",
            "Requirement already satisfied: ptyprocess>=0.5 in /home/lcur1142/.conda/envs/brain/lib/python3.8/site-packages (from pexpect>4.3->ipython>=6.1.0->ipywidgets) (0.7.0)\n",
            "Requirement already satisfied: wcwidth in /home/lcur1142/.conda/envs/brain/lib/python3.8/site-packages (from prompt-toolkit!=3.0.37,<3.1.0,>=3.0.30->ipython>=6.1.0->ipywidgets) (0.2.6)\n",
            "Requirement already satisfied: pure-eval in /home/lcur1142/.conda/envs/brain/lib/python3.8/site-packages (from stack-data->ipython>=6.1.0->ipywidgets) (0.2.2)\n",
            "Requirement already satisfied: executing>=1.2.0 in /home/lcur1142/.conda/envs/brain/lib/python3.8/site-packages (from stack-data->ipython>=6.1.0->ipywidgets) (1.2.0)\n",
            "Requirement already satisfied: asttokens>=2.1.0 in /home/lcur1142/.conda/envs/brain/lib/python3.8/site-packages (from stack-data->ipython>=6.1.0->ipywidgets) (2.2.1)\n",
            "Installing collected packages: pyparsing, pillow, kiwisolver, fonttools, cycler, contourpy, matplotlib\n",
            "Successfully installed contourpy-1.0.7 cycler-0.11.0 fonttools-4.39.3 kiwisolver-1.4.4 matplotlib-3.7.1 pillow-9.5.0 pyparsing-3.0.9\n"
          ]
        }
      ],
      "source": [
        "!pip install ipywidgets matplotlib"
      ]
    },
    {
      "cell_type": "code",
      "execution_count": 2,
      "metadata": {
        "colab": {
          "base_uri": "https://localhost:8080/"
        },
        "id": "Po4WkCawNzP5",
        "outputId": "abfda289-ad7d-415e-9a4c-a6f6e7260fee"
      },
      "outputs": [
        {
          "name": "stdout",
          "output_type": "stream",
          "text": [
            "Requirement already satisfied: nilearn in /home/lcur1142/.conda/envs/brain/lib/python3.8/site-packages (0.10.1)\n",
            "Requirement already satisfied: scipy>=1.6.0 in /home/lcur1142/.conda/envs/brain/lib/python3.8/site-packages (from nilearn) (1.10.1)\n",
            "Requirement already satisfied: requests>=2.25.0 in /home/lcur1142/.conda/envs/brain/lib/python3.8/site-packages (from nilearn) (2.30.0)\n",
            "Requirement already satisfied: joblib>=1.0.0 in /home/lcur1142/.conda/envs/brain/lib/python3.8/site-packages (from nilearn) (1.2.0)\n",
            "Requirement already satisfied: lxml in /home/lcur1142/.conda/envs/brain/lib/python3.8/site-packages (from nilearn) (4.9.2)\n",
            "Requirement already satisfied: scikit-learn>=1.0.0 in /home/lcur1142/.conda/envs/brain/lib/python3.8/site-packages (from nilearn) (1.2.2)\n",
            "Requirement already satisfied: packaging in /home/lcur1142/.conda/envs/brain/lib/python3.8/site-packages (from nilearn) (23.1)\n",
            "Requirement already satisfied: nibabel>=3.2.0 in /home/lcur1142/.conda/envs/brain/lib/python3.8/site-packages (from nilearn) (5.1.0)\n",
            "Requirement already satisfied: pandas>=1.1.5 in /home/lcur1142/.conda/envs/brain/lib/python3.8/site-packages (from nilearn) (2.0.1)\n",
            "Requirement already satisfied: numpy>=1.19.0 in /home/lcur1142/.conda/envs/brain/lib/python3.8/site-packages (from nilearn) (1.24.3)\n",
            "Requirement already satisfied: importlib-resources>=1.3 in /home/lcur1142/.conda/envs/brain/lib/python3.8/site-packages (from nibabel>=3.2.0->nilearn) (5.12.0)\n",
            "Requirement already satisfied: python-dateutil>=2.8.2 in /home/lcur1142/.conda/envs/brain/lib/python3.8/site-packages (from pandas>=1.1.5->nilearn) (2.8.2)\n",
            "Requirement already satisfied: pytz>=2020.1 in /home/lcur1142/.conda/envs/brain/lib/python3.8/site-packages (from pandas>=1.1.5->nilearn) (2023.3)\n",
            "Requirement already satisfied: tzdata>=2022.1 in /home/lcur1142/.conda/envs/brain/lib/python3.8/site-packages (from pandas>=1.1.5->nilearn) (2023.3)\n",
            "Requirement already satisfied: certifi>=2017.4.17 in /home/lcur1142/.conda/envs/brain/lib/python3.8/site-packages (from requests>=2.25.0->nilearn) (2023.5.7)\n",
            "Requirement already satisfied: idna<4,>=2.5 in /home/lcur1142/.conda/envs/brain/lib/python3.8/site-packages (from requests>=2.25.0->nilearn) (3.4)\n",
            "Requirement already satisfied: charset-normalizer<4,>=2 in /home/lcur1142/.conda/envs/brain/lib/python3.8/site-packages (from requests>=2.25.0->nilearn) (3.1.0)\n",
            "Requirement already satisfied: urllib3<3,>=1.21.1 in /home/lcur1142/.conda/envs/brain/lib/python3.8/site-packages (from requests>=2.25.0->nilearn) (2.0.2)\n",
            "Requirement already satisfied: threadpoolctl>=2.0.0 in /home/lcur1142/.conda/envs/brain/lib/python3.8/site-packages (from scikit-learn>=1.0.0->nilearn) (3.1.0)\n",
            "Requirement already satisfied: zipp>=3.1.0 in /home/lcur1142/.conda/envs/brain/lib/python3.8/site-packages (from importlib-resources>=1.3->nibabel>=3.2.0->nilearn) (3.15.0)\n",
            "Requirement already satisfied: six>=1.5 in /home/lcur1142/.conda/envs/brain/lib/python3.8/site-packages (from python-dateutil>=2.8.2->pandas>=1.1.5->nilearn) (1.16.0)\n",
            "Requirement already satisfied: tgt in /home/lcur1142/.conda/envs/brain/lib/python3.8/site-packages (1.4.4)\n"
          ]
        }
      ],
      "source": [
        "# download this library to deal with openneuro data\n",
        "!pip install -q openneuro-py\n",
        "# this is for dealing with neuroimaging data\n",
        "!pip install nilearn\n",
        "# this is for dealing with Praat TextGrids\n",
        "!pip install tgt"
      ]
    },
    {
      "cell_type": "code",
      "execution_count": 4,
      "metadata": {
        "id": "AxGfHUP3Ozl7"
      },
      "outputs": [],
      "source": [
        "from nilearn import datasets, image, masking, plotting, regions\n",
        "import openneuro as on\n",
        "import pandas as pd\n",
        "import numpy as np\n",
        "import tgt\n",
        "import glob"
      ]
    },
    {
      "cell_type": "code",
      "execution_count": 5,
      "metadata": {
        "id": "OP6OpFoPAU1A"
      },
      "outputs": [],
      "source": [
        "subjects = ['sub-CN001', 'sub-CN002', 'sub-EN057', 'sub-EN058', 'sub-FR001', 'sub-FR002']\n",
        "N_sections = 9"
      ]
    },
    {
      "cell_type": "code",
      "execution_count": 6,
      "metadata": {
        "id": "RuvNYa0yN0IN"
      },
      "outputs": [],
      "source": [
        "# here's how you load an fMRI file using  nilearn\n",
        "fmri_file_1 = '/project/gpuuva021/shared/FMRI-Data/derivatives/sub-EN057/func/sub-EN057_task-lppEN_run-15_space-MNIColin27_desc-preproc_bold.nii.gz'\n",
        "nii_img_1  = image.load_img(fmri_file_1)\n",
        "nii_data_1 = nii_img_1.get_fdata()"
      ]
    },
    {
      "attachments": {},
      "cell_type": "markdown",
      "metadata": {
        "id": "qbJ8X1MHcQ4r"
      },
      "source": [
        "You can get some info from the [image header](https://nipy.org/nibabel/reference/nibabel.nifti1.html#nibabel.nifti1.Nifti1Header), like the below: voxels are 2x2x2mm, TR is 2 seconds"
      ]
    },
    {
      "cell_type": "code",
      "execution_count": 7,
      "metadata": {
        "colab": {
          "base_uri": "https://localhost:8080/"
        },
        "id": "dFW2hpZoXt_O",
        "outputId": "da152f95-8ed1-428f-8334-fc1dca048625"
      },
      "outputs": [
        {
          "name": "stdout",
          "output_type": "stream",
          "text": [
            "(2.0, 2.0, 2.0, 2.0)\n",
            "('mm', 'sec')\n"
          ]
        }
      ],
      "source": [
        "print(nii_img_1.header.get_zooms())\n",
        "print(nii_img_1.header.get_xyzt_units())"
      ]
    },
    {
      "cell_type": "code",
      "execution_count": 8,
      "metadata": {
        "colab": {
          "base_uri": "https://localhost:8080/"
        },
        "id": "V-NMoAFeO5LF",
        "outputId": "93ff417e-7c86-44a5-94ab-675c0cc10b58"
      },
      "outputs": [
        {
          "data": {
            "text/plain": [
              "(73, 90, 74, 282)"
            ]
          },
          "execution_count": 8,
          "metadata": {},
          "output_type": "execute_result"
        }
      ],
      "source": [
        "# you get a 73x90x74 volume for every TR; \n",
        "# there are 282 TRs in this run (= 564 seconds, checks out with the length of section 1, see below)\n",
        "nii_data_1.shape"
      ]
    },
    {
      "attachments": {},
      "cell_type": "markdown",
      "metadata": {
        "id": "Z-0_eJPBdCgb"
      },
      "source": [
        "We load another fMRI file for the same section & language, to check that it indeed has the same number of TRs (note that loading these fMRI files takes quite a bit of disk space, you probably shouldn't actually ever have more than 1 file loaded into memory at once)"
      ]
    },
    {
      "cell_type": "code",
      "execution_count": 12,
      "metadata": {
        "id": "e-Okd1aLVANg"
      },
      "outputs": [],
      "source": [
        "fmri_file_2 = '/project/gpuuva021/shared/FMRI-Data/derivatives/sub-EN058/func/sub-EN058_task-lppEN_run-08_space-MNIColin27_desc-preproc_bold.nii.gz'\n",
        "\n",
        "nii_img_2  = image.load_img(fmri_file_2)\n",
        "nii_data_2 = nii_img_2.get_fdata()"
      ]
    },
    {
      "cell_type": "code",
      "execution_count": 13,
      "metadata": {
        "colab": {
          "base_uri": "https://localhost:8080/"
        },
        "id": "EutQvLiQVGuY",
        "outputId": "37498cf0-b058-4b73-9114-67f7ac7a3ad4"
      },
      "outputs": [
        {
          "data": {
            "text/plain": [
              "(73, 90, 74, 282)"
            ]
          },
          "execution_count": 13,
          "metadata": {},
          "output_type": "execute_result"
        }
      ],
      "source": [
        "nii_data_2.shape"
      ]
    },
    {
      "attachments": {},
      "cell_type": "markdown",
      "metadata": {
        "id": "W5uhey8O5GTF"
      },
      "source": [
        "Check one fMRI file for Chinese and French:"
      ]
    },
    {
      "cell_type": "code",
      "execution_count": 14,
      "metadata": {
        "id": "JxykBpyG5BOG"
      },
      "outputs": [],
      "source": [
        "fmri_file_3 = '/project/gpuuva021/shared/FMRI-Data/derivatives/sub-CN001/func/sub-CN001_task-lppCN_run-04_space-MNIColin27_desc-preproc_bold.nii.gz'\n",
        "nii_img_3  = image.load_img(fmri_file_3)\n",
        "nii_data_3 = nii_img_3.get_fdata()"
      ]
    },
    {
      "cell_type": "code",
      "execution_count": 15,
      "metadata": {
        "colab": {
          "base_uri": "https://localhost:8080/"
        },
        "id": "jsq0EioB5MAe",
        "outputId": "00048bcc-4f92-43ef-b433-73d3b01a35cf"
      },
      "outputs": [
        {
          "data": {
            "text/plain": [
              "(73, 90, 74, 283)"
            ]
          },
          "execution_count": 15,
          "metadata": {},
          "output_type": "execute_result"
        }
      ],
      "source": [
        "# Chinese\n",
        "nii_data_3.shape"
      ]
    },
    {
      "cell_type": "code",
      "execution_count": 11,
      "metadata": {
        "id": "mxDkE5HXBEC4"
      },
      "outputs": [],
      "source": [
        "fmri_file_4 = '/project/gpuuva021/shared/FMRI-Data/derivatives/sub-FR001/func/sub-FR001_task-lppFR_run-01_space-MNIColin27_desc-preproc_bold.nii.gz'\n",
        "nii_img_4 = image.load_img(fmri_file_4)\n",
        "nii_data_4 = nii_img_4.get_fdata()"
      ]
    },
    {
      "cell_type": "code",
      "execution_count": 12,
      "metadata": {
        "colab": {
          "base_uri": "https://localhost:8080/"
        },
        "id": "1fNBBV3jBOQn",
        "outputId": "23a354df-acd7-496a-db95-93da1d0b85d7"
      },
      "outputs": [
        {
          "data": {
            "text/plain": [
              "(73, 90, 74, 309)"
            ]
          },
          "execution_count": 12,
          "metadata": {},
          "output_type": "execute_result"
        }
      ],
      "source": [
        "# French\n",
        "nii_data_4.shape"
      ]
    },
    {
      "attachments": {},
      "cell_type": "markdown",
      "metadata": {
        "id": "O29UtYGbBjQY"
      },
      "source": [
        "The fMRI data for the first section has volumes for 282, 283, and 309 TRs for English, Chinese and French respectively.\n",
        "That's (nTRs*2) 564, 566, and 618 s of recordings.\n",
        "\n",
        "Compared to the word presentation times in the tables below, it seems that there are 5 and 3 extra TRs resp. for the English and French data, but none for the Chinese.. "
      ]
    },
    {
      "cell_type": "code",
      "execution_count": 18,
      "metadata": {
        "colab": {
          "base_uri": "https://localhost:8080/",
          "height": 423
        },
        "id": "9ogHIMH5VAUa",
        "outputId": "11b8d1d2-b2b6-4a40-dc86-fa5af54efa18"
      },
      "outputs": [
        {
          "data": {
            "text/html": [
              "<div>\n",
              "<style scoped>\n",
              "    .dataframe tbody tr th:only-of-type {\n",
              "        vertical-align: middle;\n",
              "    }\n",
              "\n",
              "    .dataframe tbody tr th {\n",
              "        vertical-align: top;\n",
              "    }\n",
              "\n",
              "    .dataframe thead th {\n",
              "        text-align: right;\n",
              "    }\n",
              "</style>\n",
              "<table border=\"1\" class=\"dataframe\">\n",
              "  <thead>\n",
              "    <tr style=\"text-align: right;\">\n",
              "      <th></th>\n",
              "      <th>word</th>\n",
              "      <th>lemma</th>\n",
              "      <th>onset</th>\n",
              "      <th>offset</th>\n",
              "      <th>logfreq</th>\n",
              "      <th>pos</th>\n",
              "      <th>section</th>\n",
              "      <th>top_down</th>\n",
              "      <th>bottom_up</th>\n",
              "      <th>left_corner</th>\n",
              "    </tr>\n",
              "  </thead>\n",
              "  <tbody>\n",
              "    <tr>\n",
              "      <th>0</th>\n",
              "      <td>once</td>\n",
              "      <td>once</td>\n",
              "      <td>0.113</td>\n",
              "      <td>0.728</td>\n",
              "      <td>5.824406</td>\n",
              "      <td>ADV</td>\n",
              "      <td>1</td>\n",
              "      <td>3</td>\n",
              "      <td>1</td>\n",
              "      <td>2</td>\n",
              "    </tr>\n",
              "    <tr>\n",
              "      <th>1</th>\n",
              "      <td>when</td>\n",
              "      <td>when</td>\n",
              "      <td>0.728</td>\n",
              "      <td>0.919</td>\n",
              "      <td>7.562214</td>\n",
              "      <td>ADV</td>\n",
              "      <td>1</td>\n",
              "      <td>2</td>\n",
              "      <td>2</td>\n",
              "      <td>2</td>\n",
              "    </tr>\n",
              "    <tr>\n",
              "      <th>2</th>\n",
              "      <td>i</td>\n",
              "      <td>i</td>\n",
              "      <td>0.919</td>\n",
              "      <td>1.025</td>\n",
              "      <td>8.500759</td>\n",
              "      <td>PRON</td>\n",
              "      <td>1</td>\n",
              "      <td>3</td>\n",
              "      <td>2</td>\n",
              "      <td>3</td>\n",
              "    </tr>\n",
              "    <tr>\n",
              "      <th>3</th>\n",
              "      <td>was</td>\n",
              "      <td>was</td>\n",
              "      <td>1.025</td>\n",
              "      <td>1.158</td>\n",
              "      <td>8.848911</td>\n",
              "      <td>AUX</td>\n",
              "      <td>1</td>\n",
              "      <td>2</td>\n",
              "      <td>1</td>\n",
              "      <td>2</td>\n",
              "    </tr>\n",
              "    <tr>\n",
              "      <th>4</th>\n",
              "      <td>six</td>\n",
              "      <td>six</td>\n",
              "      <td>1.158</td>\n",
              "      <td>1.464</td>\n",
              "      <td>5.208940</td>\n",
              "      <td>NUM</td>\n",
              "      <td>1</td>\n",
              "      <td>3</td>\n",
              "      <td>1</td>\n",
              "      <td>2</td>\n",
              "    </tr>\n",
              "    <tr>\n",
              "      <th>...</th>\n",
              "      <td>...</td>\n",
              "      <td>...</td>\n",
              "      <td>...</td>\n",
              "      <td>...</td>\n",
              "      <td>...</td>\n",
              "      <td>...</td>\n",
              "      <td>...</td>\n",
              "      <td>...</td>\n",
              "      <td>...</td>\n",
              "      <td>...</td>\n",
              "    </tr>\n",
              "    <tr>\n",
              "      <th>1512</th>\n",
              "      <td>you</td>\n",
              "      <td>you</td>\n",
              "      <td>553.556</td>\n",
              "      <td>553.656</td>\n",
              "      <td>7.992843</td>\n",
              "      <td>PRON</td>\n",
              "      <td>1</td>\n",
              "      <td>2</td>\n",
              "      <td>2</td>\n",
              "      <td>2</td>\n",
              "    </tr>\n",
              "    <tr>\n",
              "      <th>1513</th>\n",
              "      <td>can</td>\n",
              "      <td>can</td>\n",
              "      <td>553.656</td>\n",
              "      <td>553.966</td>\n",
              "      <td>7.653732</td>\n",
              "      <td>VERB</td>\n",
              "      <td>1</td>\n",
              "      <td>2</td>\n",
              "      <td>1</td>\n",
              "      <td>2</td>\n",
              "    </tr>\n",
              "    <tr>\n",
              "      <th>1514</th>\n",
              "      <td>t</td>\n",
              "      <td>not</td>\n",
              "      <td>553.966</td>\n",
              "      <td>553.995</td>\n",
              "      <td>8.652790</td>\n",
              "      <td>PART</td>\n",
              "      <td>1</td>\n",
              "      <td>1</td>\n",
              "      <td>1</td>\n",
              "      <td>1</td>\n",
              "    </tr>\n",
              "    <tr>\n",
              "      <th>1515</th>\n",
              "      <td>go</td>\n",
              "      <td>go</td>\n",
              "      <td>553.995</td>\n",
              "      <td>554.186</td>\n",
              "      <td>6.016645</td>\n",
              "      <td>VERB</td>\n",
              "      <td>1</td>\n",
              "      <td>2</td>\n",
              "      <td>1</td>\n",
              "      <td>2</td>\n",
              "    </tr>\n",
              "    <tr>\n",
              "      <th>1516</th>\n",
              "      <td>far</td>\n",
              "      <td>far</td>\n",
              "      <td>554.186</td>\n",
              "      <td>554.630</td>\n",
              "      <td>5.901512</td>\n",
              "      <td>ADV</td>\n",
              "      <td>1</td>\n",
              "      <td>2</td>\n",
              "      <td>7</td>\n",
              "      <td>3</td>\n",
              "    </tr>\n",
              "  </tbody>\n",
              "</table>\n",
              "<p>1517 rows × 10 columns</p>\n",
              "</div>"
            ],
            "text/plain": [
              "      word lemma    onset   offset   logfreq   pos  section  top_down   \n",
              "0     once  once    0.113    0.728  5.824406   ADV        1         3  \\\n",
              "1     when  when    0.728    0.919  7.562214   ADV        1         2   \n",
              "2        i     i    0.919    1.025  8.500759  PRON        1         3   \n",
              "3      was   was    1.025    1.158  8.848911   AUX        1         2   \n",
              "4      six   six    1.158    1.464  5.208940   NUM        1         3   \n",
              "...    ...   ...      ...      ...       ...   ...      ...       ...   \n",
              "1512   you   you  553.556  553.656  7.992843  PRON        1         2   \n",
              "1513   can   can  553.656  553.966  7.653732  VERB        1         2   \n",
              "1514     t   not  553.966  553.995  8.652790  PART        1         1   \n",
              "1515    go    go  553.995  554.186  6.016645  VERB        1         2   \n",
              "1516   far   far  554.186  554.630  5.901512   ADV        1         2   \n",
              "\n",
              "      bottom_up  left_corner  \n",
              "0             1            2  \n",
              "1             2            2  \n",
              "2             2            3  \n",
              "3             1            2  \n",
              "4             1            2  \n",
              "...         ...          ...  \n",
              "1512          2            2  \n",
              "1513          1            2  \n",
              "1514          1            1  \n",
              "1515          1            2  \n",
              "1516          7            3  \n",
              "\n",
              "[1517 rows x 10 columns]"
            ]
          },
          "execution_count": 18,
          "metadata": {},
          "output_type": "execute_result"
        }
      ],
      "source": [
        "# English word information\n",
        "en_words = pd.read_csv('/project/gpuuva021/shared/FMRI-Data/annotation/EN/lppEN_word_information.csv',\n",
        "                       index_col=[0])\n",
        "en_words[en_words['section'] == 1]"
      ]
    },
    {
      "cell_type": "code",
      "execution_count": 19,
      "metadata": {
        "colab": {
          "base_uri": "https://localhost:8080/",
          "height": 423
        },
        "id": "MHGeZ9lEA5qB",
        "outputId": "029be251-8344-49cd-bb2b-66454051cea2"
      },
      "outputs": [
        {
          "data": {
            "text/html": [
              "<div>\n",
              "<style scoped>\n",
              "    .dataframe tbody tr th:only-of-type {\n",
              "        vertical-align: middle;\n",
              "    }\n",
              "\n",
              "    .dataframe tbody tr th {\n",
              "        vertical-align: top;\n",
              "    }\n",
              "\n",
              "    .dataframe thead th {\n",
              "        text-align: right;\n",
              "    }\n",
              "</style>\n",
              "<table border=\"1\" class=\"dataframe\">\n",
              "  <thead>\n",
              "    <tr style=\"text-align: right;\">\n",
              "      <th></th>\n",
              "      <th>word</th>\n",
              "      <th>lemma</th>\n",
              "      <th>onset</th>\n",
              "      <th>offset</th>\n",
              "      <th>logfreq</th>\n",
              "      <th>pos</th>\n",
              "      <th>section</th>\n",
              "      <th>top_down</th>\n",
              "      <th>bottom_up</th>\n",
              "      <th>left_corner</th>\n",
              "    </tr>\n",
              "  </thead>\n",
              "  <tbody>\n",
              "    <tr>\n",
              "      <th>0</th>\n",
              "      <td>lorsque</td>\n",
              "      <td>lorsque</td>\n",
              "      <td>3.05</td>\n",
              "      <td>3.42</td>\n",
              "      <td>1.693375</td>\n",
              "      <td>CS</td>\n",
              "      <td>1</td>\n",
              "      <td>3</td>\n",
              "      <td>1</td>\n",
              "      <td>2</td>\n",
              "    </tr>\n",
              "    <tr>\n",
              "      <th>1</th>\n",
              "      <td>j'</td>\n",
              "      <td>j'</td>\n",
              "      <td>3.42</td>\n",
              "      <td>3.44</td>\n",
              "      <td>-5.958607</td>\n",
              "      <td>CLS</td>\n",
              "      <td>1</td>\n",
              "      <td>2</td>\n",
              "      <td>1</td>\n",
              "      <td>2</td>\n",
              "    </tr>\n",
              "    <tr>\n",
              "      <th>2</th>\n",
              "      <td>avais</td>\n",
              "      <td>avais</td>\n",
              "      <td>3.53</td>\n",
              "      <td>3.76</td>\n",
              "      <td>2.895069</td>\n",
              "      <td>V</td>\n",
              "      <td>1</td>\n",
              "      <td>1</td>\n",
              "      <td>3</td>\n",
              "      <td>2</td>\n",
              "    </tr>\n",
              "    <tr>\n",
              "      <th>3</th>\n",
              "      <td>six</td>\n",
              "      <td>six</td>\n",
              "      <td>3.93</td>\n",
              "      <td>4.18</td>\n",
              "      <td>2.069557</td>\n",
              "      <td>DET</td>\n",
              "      <td>1</td>\n",
              "      <td>2</td>\n",
              "      <td>1</td>\n",
              "      <td>2</td>\n",
              "    </tr>\n",
              "    <tr>\n",
              "      <th>4</th>\n",
              "      <td>ans</td>\n",
              "      <td>ans</td>\n",
              "      <td>4.18</td>\n",
              "      <td>4.36</td>\n",
              "      <td>2.856227</td>\n",
              "      <td>NC</td>\n",
              "      <td>1</td>\n",
              "      <td>1</td>\n",
              "      <td>2</td>\n",
              "      <td>2</td>\n",
              "    </tr>\n",
              "    <tr>\n",
              "      <th>...</th>\n",
              "      <td>...</td>\n",
              "      <td>...</td>\n",
              "      <td>...</td>\n",
              "      <td>...</td>\n",
              "      <td>...</td>\n",
              "      <td>...</td>\n",
              "      <td>...</td>\n",
              "      <td>...</td>\n",
              "      <td>...</td>\n",
              "      <td>...</td>\n",
              "    </tr>\n",
              "    <tr>\n",
              "      <th>1627</th>\n",
              "      <td>peut</td>\n",
              "      <td>peut</td>\n",
              "      <td>609.51</td>\n",
              "      <td>609.65</td>\n",
              "      <td>3.082656</td>\n",
              "      <td>V</td>\n",
              "      <td>1</td>\n",
              "      <td>1</td>\n",
              "      <td>2</td>\n",
              "      <td>2</td>\n",
              "    </tr>\n",
              "    <tr>\n",
              "      <th>1628</th>\n",
              "      <td>pas</td>\n",
              "      <td>pas</td>\n",
              "      <td>609.65</td>\n",
              "      <td>609.87</td>\n",
              "      <td>4.262812</td>\n",
              "      <td>ADV</td>\n",
              "      <td>1</td>\n",
              "      <td>1</td>\n",
              "      <td>1</td>\n",
              "      <td>1</td>\n",
              "    </tr>\n",
              "    <tr>\n",
              "      <th>1629</th>\n",
              "      <td>aller</td>\n",
              "      <td>aller</td>\n",
              "      <td>609.87</td>\n",
              "      <td>610.04</td>\n",
              "      <td>2.921150</td>\n",
              "      <td>VINF</td>\n",
              "      <td>1</td>\n",
              "      <td>3</td>\n",
              "      <td>2</td>\n",
              "      <td>3</td>\n",
              "    </tr>\n",
              "    <tr>\n",
              "      <th>1630</th>\n",
              "      <td>bien</td>\n",
              "      <td>bien</td>\n",
              "      <td>610.04</td>\n",
              "      <td>610.20</td>\n",
              "      <td>3.637258</td>\n",
              "      <td>ADV</td>\n",
              "      <td>1</td>\n",
              "      <td>2</td>\n",
              "      <td>1</td>\n",
              "      <td>2</td>\n",
              "    </tr>\n",
              "    <tr>\n",
              "      <th>1631</th>\n",
              "      <td>loin</td>\n",
              "      <td>loin</td>\n",
              "      <td>610.20</td>\n",
              "      <td>610.38</td>\n",
              "      <td>2.395047</td>\n",
              "      <td>ADV</td>\n",
              "      <td>1</td>\n",
              "      <td>1</td>\n",
              "      <td>9</td>\n",
              "      <td>2</td>\n",
              "    </tr>\n",
              "  </tbody>\n",
              "</table>\n",
              "<p>1632 rows × 10 columns</p>\n",
              "</div>"
            ],
            "text/plain": [
              "         word    lemma   onset  offset   logfreq   pos  section top_down   \n",
              "0     lorsque  lorsque    3.05    3.42  1.693375    CS        1        3  \\\n",
              "1          j'       j'    3.42    3.44 -5.958607   CLS        1        2   \n",
              "2       avais    avais    3.53    3.76  2.895069     V        1        1   \n",
              "3         six      six    3.93    4.18  2.069557   DET        1        2   \n",
              "4         ans      ans    4.18    4.36  2.856227    NC        1        1   \n",
              "...       ...      ...     ...     ...       ...   ...      ...      ...   \n",
              "1627     peut     peut  609.51  609.65  3.082656     V        1        1   \n",
              "1628      pas      pas  609.65  609.87  4.262812   ADV        1        1   \n",
              "1629    aller    aller  609.87  610.04  2.921150  VINF        1        3   \n",
              "1630     bien     bien  610.04  610.20  3.637258   ADV        1        2   \n",
              "1631     loin     loin  610.20  610.38  2.395047   ADV        1        1   \n",
              "\n",
              "     bottom_up left_corner  \n",
              "0            1           2  \n",
              "1            1           2  \n",
              "2            3           2  \n",
              "3            1           2  \n",
              "4            2           2  \n",
              "...        ...         ...  \n",
              "1627         2           2  \n",
              "1628         1           1  \n",
              "1629         2           3  \n",
              "1630         1           2  \n",
              "1631         9           2  \n",
              "\n",
              "[1632 rows x 10 columns]"
            ]
          },
          "execution_count": 19,
          "metadata": {},
          "output_type": "execute_result"
        }
      ],
      "source": [
        "# French word information\n",
        "fr_words = pd.read_csv('/project/gpuuva021/shared/FMRI-Data/annotation/FR/lppFR_word_information.csv',\n",
        "                       index_col=[0])\n",
        "fr_words[fr_words['section'] == 1]"
      ]
    },
    {
      "cell_type": "code",
      "execution_count": 20,
      "metadata": {
        "colab": {
          "base_uri": "https://localhost:8080/",
          "height": 423
        },
        "id": "I9C4mOZh59fE",
        "outputId": "705a2f37-294f-4871-efc9-401017c58bd4"
      },
      "outputs": [
        {
          "data": {
            "text/html": [
              "<div>\n",
              "<style scoped>\n",
              "    .dataframe tbody tr th:only-of-type {\n",
              "        vertical-align: middle;\n",
              "    }\n",
              "\n",
              "    .dataframe tbody tr th {\n",
              "        vertical-align: top;\n",
              "    }\n",
              "\n",
              "    .dataframe thead th {\n",
              "        text-align: right;\n",
              "    }\n",
              "</style>\n",
              "<table border=\"1\" class=\"dataframe\">\n",
              "  <thead>\n",
              "    <tr style=\"text-align: right;\">\n",
              "      <th></th>\n",
              "      <th>word</th>\n",
              "      <th>lemma</th>\n",
              "      <th>onset</th>\n",
              "      <th>offset</th>\n",
              "      <th>logfreq</th>\n",
              "      <th>pos</th>\n",
              "      <th>section</th>\n",
              "      <th>top_down</th>\n",
              "      <th>bottom_up</th>\n",
              "      <th>left_corner</th>\n",
              "    </tr>\n",
              "  </thead>\n",
              "  <tbody>\n",
              "    <tr>\n",
              "      <th>0</th>\n",
              "      <td>当</td>\n",
              "      <td>当</td>\n",
              "      <td>0.00</td>\n",
              "      <td>0.14</td>\n",
              "      <td>8.529403</td>\n",
              "      <td>ADP</td>\n",
              "      <td>1</td>\n",
              "      <td>3</td>\n",
              "      <td>1</td>\n",
              "      <td>2</td>\n",
              "    </tr>\n",
              "    <tr>\n",
              "      <th>1</th>\n",
              "      <td>我</td>\n",
              "      <td>我</td>\n",
              "      <td>0.14</td>\n",
              "      <td>0.25</td>\n",
              "      <td>10.534098</td>\n",
              "      <td>PRON</td>\n",
              "      <td>1</td>\n",
              "      <td>5</td>\n",
              "      <td>2</td>\n",
              "      <td>3</td>\n",
              "    </tr>\n",
              "    <tr>\n",
              "      <th>2</th>\n",
              "      <td>还</td>\n",
              "      <td>还</td>\n",
              "      <td>0.25</td>\n",
              "      <td>0.43</td>\n",
              "      <td>9.872624</td>\n",
              "      <td>ADV</td>\n",
              "      <td>1</td>\n",
              "      <td>3</td>\n",
              "      <td>2</td>\n",
              "      <td>3</td>\n",
              "    </tr>\n",
              "    <tr>\n",
              "      <th>3</th>\n",
              "      <td>只有</td>\n",
              "      <td>只有</td>\n",
              "      <td>0.43</td>\n",
              "      <td>0.67</td>\n",
              "      <td>8.511888</td>\n",
              "      <td>ADV</td>\n",
              "      <td>1</td>\n",
              "      <td>2</td>\n",
              "      <td>1</td>\n",
              "      <td>2</td>\n",
              "    </tr>\n",
              "    <tr>\n",
              "      <th>4</th>\n",
              "      <td>六</td>\n",
              "      <td>六</td>\n",
              "      <td>0.67</td>\n",
              "      <td>0.89</td>\n",
              "      <td>8.930712</td>\n",
              "      <td>NUM</td>\n",
              "      <td>1</td>\n",
              "      <td>2</td>\n",
              "      <td>1</td>\n",
              "      <td>2</td>\n",
              "    </tr>\n",
              "    <tr>\n",
              "      <th>...</th>\n",
              "      <td>...</td>\n",
              "      <td>...</td>\n",
              "      <td>...</td>\n",
              "      <td>...</td>\n",
              "      <td>...</td>\n",
              "      <td>...</td>\n",
              "      <td>...</td>\n",
              "      <td>...</td>\n",
              "      <td>...</td>\n",
              "      <td>...</td>\n",
              "    </tr>\n",
              "    <tr>\n",
              "      <th>1748</th>\n",
              "      <td>不会</td>\n",
              "      <td>不会</td>\n",
              "      <td>563.79</td>\n",
              "      <td>564.16</td>\n",
              "      <td>0.597187</td>\n",
              "      <td>VERB</td>\n",
              "      <td>1</td>\n",
              "      <td>3</td>\n",
              "      <td>2</td>\n",
              "      <td>3</td>\n",
              "    </tr>\n",
              "    <tr>\n",
              "      <th>1749</th>\n",
              "      <td>走</td>\n",
              "      <td>走</td>\n",
              "      <td>564.16</td>\n",
              "      <td>564.35</td>\n",
              "      <td>7.984939</td>\n",
              "      <td>VERB</td>\n",
              "      <td>1</td>\n",
              "      <td>3</td>\n",
              "      <td>2</td>\n",
              "      <td>3</td>\n",
              "    </tr>\n",
              "    <tr>\n",
              "      <th>1750</th>\n",
              "      <td>出</td>\n",
              "      <td>出</td>\n",
              "      <td>564.35</td>\n",
              "      <td>564.50</td>\n",
              "      <td>9.616850</td>\n",
              "      <td>VERB</td>\n",
              "      <td>1</td>\n",
              "      <td>4</td>\n",
              "      <td>1</td>\n",
              "      <td>2</td>\n",
              "    </tr>\n",
              "    <tr>\n",
              "      <th>1751</th>\n",
              "      <td>多</td>\n",
              "      <td>多</td>\n",
              "      <td>564.50</td>\n",
              "      <td>564.69</td>\n",
              "      <td>9.815064</td>\n",
              "      <td>ADV</td>\n",
              "      <td>1</td>\n",
              "      <td>1</td>\n",
              "      <td>3</td>\n",
              "      <td>2</td>\n",
              "    </tr>\n",
              "    <tr>\n",
              "      <th>1752</th>\n",
              "      <td>远</td>\n",
              "      <td>远</td>\n",
              "      <td>564.69</td>\n",
              "      <td>564.95</td>\n",
              "      <td>7.558703</td>\n",
              "      <td>ADV</td>\n",
              "      <td>1</td>\n",
              "      <td>3</td>\n",
              "      <td>2</td>\n",
              "      <td>3</td>\n",
              "    </tr>\n",
              "  </tbody>\n",
              "</table>\n",
              "<p>1753 rows × 10 columns</p>\n",
              "</div>"
            ],
            "text/plain": [
              "     word lemma   onset  offset    logfreq   pos  section  top_down   \n",
              "0       当     当    0.00    0.14   8.529403   ADP        1         3  \\\n",
              "1       我     我    0.14    0.25  10.534098  PRON        1         5   \n",
              "2       还     还    0.25    0.43   9.872624   ADV        1         3   \n",
              "3      只有    只有    0.43    0.67   8.511888   ADV        1         2   \n",
              "4       六     六    0.67    0.89   8.930712   NUM        1         2   \n",
              "...   ...   ...     ...     ...        ...   ...      ...       ...   \n",
              "1748   不会    不会  563.79  564.16   0.597187  VERB        1         3   \n",
              "1749    走     走  564.16  564.35   7.984939  VERB        1         3   \n",
              "1750    出     出  564.35  564.50   9.616850  VERB        1         4   \n",
              "1751    多     多  564.50  564.69   9.815064   ADV        1         1   \n",
              "1752    远     远  564.69  564.95   7.558703   ADV        1         3   \n",
              "\n",
              "      bottom_up  left_corner  \n",
              "0             1            2  \n",
              "1             2            3  \n",
              "2             2            3  \n",
              "3             1            2  \n",
              "4             1            2  \n",
              "...         ...          ...  \n",
              "1748          2            3  \n",
              "1749          2            3  \n",
              "1750          1            2  \n",
              "1751          3            2  \n",
              "1752          2            3  \n",
              "\n",
              "[1753 rows x 10 columns]"
            ]
          },
          "execution_count": 20,
          "metadata": {},
          "output_type": "execute_result"
        }
      ],
      "source": [
        "# Chinese word information\n",
        "cn_words = pd.read_csv('/project/gpuuva021/shared/FMRI-Data/annotation/CN/lppCN_word_information.csv',\n",
        "                       index_col=[0])\n",
        "cn_words[cn_words['section'] == 1]"
      ]
    },
    {
      "attachments": {},
      "cell_type": "markdown",
      "metadata": {
        "id": "vmLsSXtMUK4N"
      },
      "source": [
        "# Preparing brain features\n",
        "\n",
        "Below are some things you'll need to get the fMRI data into the right format for your analyses.\n",
        "\n",
        "(Just some example code for the French fMRI data, i.e. `nii_img_4`)"
      ]
    },
    {
      "cell_type": "code",
      "execution_count": 19,
      "metadata": {
        "colab": {
          "base_uri": "https://localhost:8080/",
          "height": 297
        },
        "id": "4wIuHeZ4FuX1",
        "outputId": "f6a4cfdc-91bc-4289-d765-a9d0d9b3801f"
      },
      "outputs": [
        {
          "data": {
            "image/png": "[encoded data removed]",
            "text/plain": [
              "<Figure size 660x260 with 4 Axes>"
            ]
          },
          "metadata": {},
          "output_type": "display_data"
        }
      ],
      "source": [
        "# this is the mean signal over all recorded volumes (all TRs (Times)), plotted over a standard MNI space template\n",
        "func_mean = image.mean_img(nii_img_4)\n",
        "display = plotting.plot_roi(func_mean)"
      ]
    },
    {
      "attachments": {},
      "cell_type": "markdown",
      "metadata": {
        "id": "g1r2r3ZIQrCb"
      },
      "source": [
        "### Masking: option 1\n",
        "\n",
        "You'll need to mask the volumes to get a flat feature vector for each TR; here's a basic function that will do for whole brain analyses (see [compute_epi_mask](https://nilearn.github.io/dev/modules/generated/nilearn.masking.compute_epi_mask.html) in the nilearn docs). \n",
        "\n",
        "If you want to do this, it'll be wise to run PCA on these vectors first to reduce the dimensionality and make further computations (like distance or correlation measures) managable."
      ]
    },
    {
      "cell_type": "code",
      "execution_count": 22,
      "metadata": {
        "colab": {
          "base_uri": "https://localhost:8080/"
        },
        "id": "KQKeP3LNI9vq",
        "outputId": "2f9a702e-abea-4a9b-894d-dd91c3c7759a"
      },
      "outputs": [
        {
          "data": {
            "text/plain": [
              "(309, 247619)"
            ]
          },
          "execution_count": 22,
          "metadata": {},
          "output_type": "execute_result"
        },
        {
          "ename": "",
          "evalue": "",
          "output_type": "error",
          "traceback": [
            "\u001b[1;31mThe Kernel crashed while executing code in the the current cell or a previous cell. Please review the code in the cell(s) to identify a possible cause of the failure. Click <a href='https://aka.ms/vscodeJupyterKernelCrash'>here</a> for more info. View Jupyter <a href='command:jupyter.viewOutput'>log</a> for further details."
          ]
        }
      ],
      "source": [
        "func_mask = masking.compute_epi_mask(func_mean)\n",
        "nii4_masked = masking.apply_mask(nii_img_4, func_mask)\n",
        "nii4_masked.shape # time (TR) x mask_dim\n",
        "\n",
        "# nii4_masked[0][:25]"
      ]
    },
    {
      "attachments": {},
      "cell_type": "markdown",
      "metadata": {
        "id": "8-3DjyIsQu6K"
      },
      "source": [
        "### Masking: option 2 (tentative)\n",
        "\n",
        "You can also use a mask to extract only voxels from a particular ROI.\n",
        "\n",
        "NB: Need to check that the atlas and dataset spaces are aligned for this to work, which I'm not fully sure of, but feel free to try / use this for your miniproject regardless."
      ]
    },
    {
      "cell_type": "code",
      "execution_count": 10,
      "metadata": {
        "colab": {
          "base_uri": "https://localhost:8080/",
          "height": 441
        },
        "id": "JQDjXPloO55u",
        "outputId": "5e1026b4-4f8c-47ff-cd1d-534e7961d419"
      },
      "outputs": [
        {
          "name": "stdout",
          "output_type": "stream",
          "text": [
            "[(1, 'Background'), (2, 'Frontal Pole'), (3, 'Insular Cortex'), (4, 'Superior Frontal Gyrus'), (5, 'Middle Frontal Gyrus'), (6, 'Inferior Frontal Gyrus, pars triangularis'), (7, 'Inferior Frontal Gyrus, pars opercularis'), (8, 'Precentral Gyrus'), (9, 'Temporal Pole'), (10, 'Superior Temporal Gyrus, anterior division'), (11, 'Superior Temporal Gyrus, posterior division'), (12, 'Middle Temporal Gyrus, anterior division'), (13, 'Middle Temporal Gyrus, posterior division'), (14, 'Middle Temporal Gyrus, temporooccipital part'), (15, 'Inferior Temporal Gyrus, anterior division'), (16, 'Inferior Temporal Gyrus, posterior division'), (17, 'Inferior Temporal Gyrus, temporooccipital part'), (18, 'Postcentral Gyrus'), (19, 'Superior Parietal Lobule'), (20, 'Supramarginal Gyrus, anterior division'), (21, 'Supramarginal Gyrus, posterior division'), (22, 'Angular Gyrus'), (23, 'Lateral Occipital Cortex, superior division'), (24, 'Lateral Occipital Cortex, inferior division'), (25, 'Intracalcarine Cortex'), (26, 'Frontal Medial Cortex'), (27, 'Juxtapositional Lobule Cortex (formerly Supplementary Motor Cortex)'), (28, 'Subcallosal Cortex'), (29, 'Paracingulate Gyrus'), (30, 'Cingulate Gyrus, anterior division'), (31, 'Cingulate Gyrus, posterior division'), (32, 'Precuneous Cortex'), (33, 'Cuneal Cortex'), (34, 'Frontal Orbital Cortex'), (35, 'Parahippocampal Gyrus, anterior division'), (36, 'Parahippocampal Gyrus, posterior division'), (37, 'Lingual Gyrus'), (38, 'Temporal Fusiform Cortex, anterior division'), (39, 'Temporal Fusiform Cortex, posterior division'), (40, 'Temporal Occipital Fusiform Cortex'), (41, 'Occipital Fusiform Gyrus'), (42, 'Frontal Operculum Cortex'), (43, 'Central Opercular Cortex'), (44, 'Parietal Operculum Cortex'), (45, 'Planum Polare'), (46, \"Heschl's Gyrus (includes H1 and H2)\"), (47, 'Planum Temporale'), (48, 'Supracalcarine Cortex'), (49, 'Occipital Pole')]\n"
          ]
        },
        {
          "data": {
            "image/png": "[encoded data removed]",
            "text/plain": [
              "<Figure size 730x260 with 5 Axes>"
            ]
          },
          "metadata": {},
          "output_type": "display_data"
        }
      ],
      "source": [
        "ho_maxprob_atlas = datasets.fetch_atlas_harvard_oxford('cort-maxprob-thr25-2mm')\n",
        "ho_maxprob_atlas_img = image.load_img(ho_maxprob_atlas['maps'])\n",
        "\n",
        "# ROI numbers & text labels in this atlas\n",
        "print([(i+1, roi) for i, roi in enumerate(ho_maxprob_atlas['labels'])])\n",
        "display = plotting.plot_roi(ho_maxprob_atlas_img, colorbar=True)"
      ]
    },
    {
      "cell_type": "code",
      "execution_count": 13,
      "metadata": {
        "id": "8Qr_tvcwQzVU"
      },
      "outputs": [],
      "source": [
        "# resample the atlas to the dataset resolution\n",
        "ho_maxprob_atlas_img_resamp = image.resample_to_img(\n",
        "    ho_maxprob_atlas_img,\n",
        "    target_img=nii_img_4,\n",
        "    interpolation='nearest'\n",
        ")"
      ]
    },
    {
      "cell_type": "code",
      "execution_count": 14,
      "metadata": {
        "id": "v1UD9QB8Q7Ut"
      },
      "outputs": [],
      "source": [
        "# reduce data to get mean signal for each ROI\n",
        "av_roi_data = regions.img_to_signals_labels(\n",
        "    nii_img_4,\n",
        "    labels_img=ho_maxprob_atlas_img_resamp,\n",
        "    background_label=0\n",
        ")"
      ]
    },
    {
      "cell_type": "code",
      "execution_count": 17,
      "metadata": {
        "colab": {
          "base_uri": "https://localhost:8080/"
        },
        "id": "hGQjNE5qRA3V",
        "outputId": "7cc6a9cd-95b8-4672-e2e7-f116a41d253e"
      },
      "outputs": [
        {
          "data": {
            "text/plain": [
              "array([38598.43 , 18497.861, 34013.79 , 31292.45 , 25814.22 , 26106.857,\n",
              "       27386.797, 14519.559, 18588.18 , 23768.562, 17513.117, 21058.92 ,\n",
              "       26667.654, 15586.307, 14030.653, 24008.164, 29442.383, 30987.516,\n",
              "       31385.914, 30315.271, 29230.533, 32161.832, 28468.58 , 22058.305,\n",
              "       19203.062, 24860.871, 11018.882, 27653.832, 19854.348, 14357.391,\n",
              "       22035.125, 25166.951, 16420.863, 11503.165, 11871.829, 17612.15 ,\n",
              "       14309.449, 13230.842, 16753.947, 24012.291, 20719.387, 20806.885,\n",
              "       21144.72 , 18856.854, 17807.71 , 21359.047, 21828.285, 29645.63 ],\n",
              "      dtype=float32)"
            ]
          },
          "execution_count": 17,
          "metadata": {},
          "output_type": "execute_result"
        }
      ],
      "source": [
        "# av_roi_data[0] contains the average signal for each of the 49 ROIs at every TR\n",
        "# (av_roi_data[1] contains the ROI indices that will get you the text labels from ho_maxprob_atlas['labels'])\n",
        "av_roi_data[0].shape # TR x num of ROI\n",
        "\n",
        "# av_roi_data[0][0]\n"
      ]
    },
    {
      "cell_type": "code",
      "execution_count": 16,
      "metadata": {
        "colab": {
          "base_uri": "https://localhost:8080/"
        },
        "id": "PODrltqEhxuv",
        "outputId": "a08e7c16-dc4d-4c80-9c80-68a51eca07df"
      },
      "outputs": [
        {
          "data": {
            "text/plain": [
              "[IntervalTier(start_time=0.0, end_time=564.0, name=\"TokensAlign\", objects=[Interval(0.0, 0.11319999999999908, \"#\"), Interval(0.11319999999999908, 0.7282000000000011, \"once\"), Interval(0.7282000000000011, 0.9194083255085559, \"when\"), Interval(0.9194083255085559, 1.0248874537919548, \"i\"), Interval(1.0248874537919548, 1.1582000000000008, \"was\"), Interval(1.1582000000000008, 1.4640641879174012, \"six\"), Interval(1.4640641879174012, 1.671186839819356, \"years\"), Interval(1.671186839819356, 1.9729000000000028, \"old\"), Interval(1.9729000000000028, 2.342100000000002, \"#\"), Interval(2.342100000000002, 2.4804329962601415, \"i\"), Interval(2.4804329962601415, 2.687100000000001, \"saw\"), Interval(2.687100000000001, 2.851486218883693, \"a\"), Interval(2.851486218883693, 3.7234612920490306, \"magnificent\"), Interval(3.7234612920490306, 4.2971, \"picture\"), Interval(4.2971, 4.357100000000003, \"in\"), Interval(4.357100000000003, 4.437100000000001, \"a\"), Interval(4.437100000000001, 4.725304993132617, \"book\"), Interval(4.725304993132617, 4.947099999999999, \"about\"), Interval(4.947099999999999, 5.053068673116748, \"the\"), Interval(5.053068673116748, 5.634385388560311, \"primeval\"), Interval(5.634385388560311, 6.247100000000003, \"forest\"), Interval(6.247100000000003, 6.8271000000000015, \"called\"), Interval(6.8271000000000015, 7.277099999999997, \"real\"), Interval(7.277099999999997, 7.5671000000000035, \"life\"), Interval(7.5671000000000035, 8.339100000000002, \"stories\"), Interval(8.339100000000002, 9.247, \"#\"), Interval(9.247, 9.432000000000002, \"it\"), Interval(9.432000000000002, 9.754796990929037, \"showed\"), Interval(9.754796990929037, 9.811999999999998, \"a\"), Interval(9.811999999999998, 10.17636284852101, \"boa\"), Interval(10.17636284852101, 10.875704658789857, \"constrictor\"), Interval(10.875704658789857, 11.486811754678996, \"swallowing\"), Interval(11.486811754678996, 11.591999999999999, \"a\"), Interval(11.591999999999999, 11.999880279035125, \"wild\"), Interval(11.999880279035125, 12.4161, \"animal\"), Interval(12.4161, 13.144400000000005, \"#\"), Interval(13.144400000000005, 13.343573135654523, \"here\"), Interval(13.343573135654523, 13.469399999999993, \"is\"), Interval(13.469399999999993, 13.5094, \"a\"), Interval(13.5094, 13.899992560384646, \"copy\"), Interval(13.899992560384646, 13.999399999999994, \"of\"), Interval(13.999399999999994, 14.079400000000007, \"the\"), Interval(14.079400000000007, 14.463700000000003, \"drawing\"), Interval(14.463700000000003, 15.860399999999998, \"#\"), Interval(15.860399999999998, 16.02319784246096, \"it\"), Interval(16.02319784246096, 16.263999138577447, \"said\"), Interval(16.263999138577447, 16.365399999999994, \"in\"), Interval(16.365399999999994, 16.436527270277765, \"the\"), Interval(16.436527270277765, 16.7551, \"book\"), Interval(16.7551, 17.218999999999994, \"#\"), Interval(17.218999999999994, 17.584000000000003, \"boa\"), Interval(17.584000000000003, 18.321911669186903, \"constrictors\"), Interval(18.321911669186903, 18.811869314541084, \"swallow\"), Interval(18.811869314541084, 18.983999999999995, \"their\"), Interval(18.983999999999995, 19.45754993244968, \"prey\"), Interval(19.45754993244968, 19.913324486267513, \"whole\"), Interval(19.913324486267513, 20.334000000000003, \"without\"), Interval(20.334000000000003, 20.902199999999993, \"chewing\"), Interval(20.902199999999993, 21.560599999999994, \"#\"), Interval(21.560599999999994, 21.875600000000006, \"then\"), Interval(21.875600000000006, 22.00599031519701, \"they\"), Interval(22.00599031519701, 22.105599999999995, \"are\"), Interval(22.105599999999995, 22.3056, \"not\"), Interval(22.3056, 22.565600000000003, \"able\"), Interval(22.565600000000003, 22.705600000000004, \"to\"), Interval(22.705600000000004, 23.37092998201001, \"move\"), Interval(23.37092998201001, 23.625600000000006, \"and\"), Interval(23.625600000000006, 23.745426063879293, \"they\"), Interval(23.745426063879293, 24.14948762589613, \"sleep\"), Interval(24.14948762589613, 24.2556, \"for\"), Interval(24.2556, 24.355599999999995, \"the\"), Interval(24.355599999999995, 24.785600000000002, \"six\"), Interval(24.785600000000002, 25.135003630815277, \"months\"), Interval(25.135003630815277, 25.2256, \"it\"), Interval(25.2256, 25.495599999999996, \"takes\"), Interval(25.495599999999996, 25.605599999999995, \"for\"), Interval(25.605599999999995, 26.339100000000002, \"digestion\"), Interval(26.339100000000002, 27.2919, \"#\"), Interval(27.2919, 27.776765859930137, \"so\"), Interval(27.776765859930137, 27.886899999999997, \"i\"), Interval(27.886899999999997, 28.1669, \"thought\"), Interval(28.1669, 28.26632332397803, \"a\"), Interval(28.26632332397803, 28.486900000000006, \"lot\"), Interval(28.486900000000006, 28.736900000000006, \"about\"), Interval(28.736900000000006, 28.854371638781117, \"the\"), Interval(28.854371638781117, 29.387380948750433, \"adventures\"), Interval(29.387380948750433, 29.474284640593254, \"of\"), Interval(29.474284640593254, 29.5869, \"the\"), Interval(29.5869, 30.101100000000002, \"jungle\"), Interval(30.101100000000002, 30.295500000000004, \"#\"), Interval(30.295500000000004, 30.54753128883496, \"and\"), Interval(30.54753128883496, 30.734242777238876, \"in\"), Interval(30.734242777238876, 31.39356772066523, \"turn\"), Interval(31.39356772066523, 31.600499999999997, \"i\"), Interval(31.600499999999997, 32.1305, \"managed\"), Interval(32.1305, 32.230500000000006, \"with\"), Interval(32.230500000000006, 32.28628202459649, \"a\"), Interval(32.28628202459649, 32.6005, \"coloured\"), Interval(32.6005, 33.1246, \"pencil\"), Interval(33.1246, 33.3989, \"#\"), Interval(33.3989, 33.5239, \"to\"), Interval(33.5239, 33.76390000000001, \"make\"), Interval(33.76390000000001, 34.0339, \"my\"), Interval(34.0339, 34.4139, \"first\"), Interval(34.4139, 34.8236, \"drawing\"), Interval(34.8236, 35.2576, \"#\"), Interval(35.2576, 35.46305399378531, \"my\"), Interval(35.46305399378531, 35.87581773355758, \"drawing\"), Interval(35.87581773355758, 36.3626, \"number\"), Interval(36.3626, 36.647400000000005, \"one\"), Interval(36.647400000000005, 37.186099999999996, \"#\"), Interval(37.186099999999996, 37.311099999999996, \"it\"), Interval(37.311099999999996, 37.6311, \"looked\"), Interval(37.6311, 37.891099999999994, \"like\"), Interval(37.891099999999994, 38.325599999999994, \"this\"), Interval(38.325599999999994, 39.607600000000005, \"#\"), Interval(39.607600000000005, 39.790911689019524, \"i\"), Interval(39.790911689019524, 40.102599999999995, \"showed\"), Interval(40.102599999999995, 40.2726, \"my\"), Interval(40.2726, 40.9426, \"masterpiece\"), Interval(40.9426, 41.0526, \"to\"), Interval(41.0526, 41.1126, \"the\"), Interval(41.1126, 41.93415699836302, \"grownups\"), Interval(41.93415699836302, 42.0826, \"and\"), Interval(42.0826, 42.242929627675224, \"i\"), Interval(42.242929627675224, 42.6126, \"asked\"), Interval(42.6126, 42.72879244144589, \"them\"), Interval(42.72879244144589, 42.83777101649726, \"if\"), Interval(42.83777101649726, 43.023942748876664, \"my\"), Interval(43.023942748876664, 43.34633770007029, \"drawing\"), Interval(43.34633770007029, 43.79259999999999, \"frightened\"), Interval(43.79259999999999, 44.01090000000001, \"them\"), Interval(44.01090000000001, 44.39, \"#\"), Interval(44.39, 44.589122081547984, \"they\"), Interval(44.589122081547984, 44.94499999999999, \"answered\"), Interval(44.94499999999999, 45.18000000000001, \"me\"), Interval(45.18000000000001, 45.738699999999994, \"#\"), Interval(45.738699999999994, 45.90951396072924, \"why\"), Interval(45.90951396072924, 46.212917744284965, \"would\"), Interval(46.212917744284965, 46.6737, \"anyone\"), Interval(46.6737, 46.810016390322616, \"be\"), Interval(46.810016390322616, 47.2937, \"frightened\"), Interval(47.2937, 47.44370000000001, \"by\"), Interval(47.44370000000001, 47.557603313003895, \"a\"), Interval(47.557603313003895, 48.0924, \"hat\"), Interval(48.0924, 49.1301, \"#\"), Interval(49.1301, 49.3151, \"my\"), Interval(49.3151, 49.665099999999995, \"drawing\"), Interval(49.665099999999995, 49.82887300943453, \"was\"), Interval(49.82887300943453, 50.0351, \"not\"), Interval(50.0351, 50.1451, \"of\"), Interval(50.1451, 50.24280986456377, \"a\"), Interval(50.24280986456377, 50.644800000000004, \"hat\"), Interval(50.644800000000004, 51.1087, \"#\"), Interval(51.1087, 51.5028498266976, \"it\"), Interval(51.5028498266976, 51.753699999999995, \"showed\"), Interval(51.753699999999995, 51.8137, \"a\"), Interval(51.8137, 52.19370000000001, \"boa\"), Interval(52.19370000000001, 52.8537, \"constrictor\"), Interval(52.8537, 53.55455157160971, \"digesting\"), Interval(53.55455157160971, 53.66728243671476, \"an\"), Interval(53.66728243671476, 54.2321, \"elephant\"), Interval(54.2321, 55.0851, \"#\"), Interval(55.0851, 55.582778292700525, \"i\"), Interval(55.582778292700525, 55.88745064203559, \"then\"), Interval(55.88745064203559, 56.1001, \"drew\"), Interval(56.1001, 56.25409024886251, \"the\"), Interval(56.25409024886251, 56.780100000000004, \"inside\"), Interval(56.780100000000004, 56.870099999999994, \"of\"), Interval(56.870099999999994, 56.950100000000006, \"the\"), Interval(56.950100000000006, 57.2401, \"boa\"), Interval(57.2401, 58.120099999999994, \"constrictor\"), Interval(58.120099999999994, 58.370099999999994, \"so\"), Interval(58.370099999999994, 58.510099999999994, \"that\"), Interval(58.510099999999994, 58.6001, \"the\"), Interval(58.6001, 59.170100000000005, \"grownups\"), Interval(59.170100000000005, 59.3201, \"could\"), Interval(59.3201, 60.092699999999994, \"understand\"), Interval(60.092699999999994, 60.611599999999996, \"#\"), Interval(60.611599999999996, 60.736599999999996, \"they\"), Interval(60.736599999999996, 61.1666, \"always\"), Interval(61.1666, 61.336600000000004, \"need\"), Interval(61.336600000000004, 61.42659999999999, \"to\"), Interval(61.42659999999999, 61.69166246426806, \"have\"), Interval(61.69166246426806, 61.986599999999996, \"things\"), Interval(61.986599999999996, 62.6759, \"explained\"), Interval(62.6759, 63.5938, \"#\"), Interval(63.5938, 63.803266246500016, \"my\"), Interval(63.803266246500016, 64.15166178118086, \"drawing\"), Interval(64.15166178118086, 64.51232476426597, \"number\"), Interval(64.51232476426597, 64.95395290681917, \"two\"), Interval(64.95395290681917, 65.2788, \"looked\"), Interval(65.2788, 65.5488, \"like\"), Interval(65.5488, 65.973, \"this\"), Interval(65.973, 67.1403, \"#\"), Interval(67.1403, 67.2053, \"the\"), Interval(67.2053, 67.79406806963019, \"grownups\"), Interval(67.79406806963019, 68.20103408332659, \"advised\"), Interval(68.20103408332659, 68.2853, \"me\"), Interval(68.2853, 68.44944190986854, \"to\"), Interval(68.44944190986854, 68.73484664674653, \"leave\"), Interval(68.73484664674653, 69.2453, \"aside\"), Interval(69.2453, 69.76018959034523, \"drawings\"), Interval(69.76018959034523, 69.8253, \"of\"), Interval(69.8253, 70.1853, \"boa\"), Interval(70.1853, 71.01279926886531, \"constrictors\"), Interval(71.01279926886531, 71.34048618898449, \"open\"), Interval(71.34048618898449, 71.4553, \"or\"), Interval(71.4553, 72.3553, \"closed\"), Interval(72.3553, 72.5153, \"and\"), Interval(72.5153, 72.59530000000001, \"to\"), Interval(72.59530000000001, 72.96530000000001, \"apply\"), Interval(72.96530000000001, 73.5153, \"myself\"), Interval(73.5153, 74.1753, \"instead\"), Interval(74.1753, 74.3553, \"to\"), Interval(74.3553, 75.24529999999999, \"geography\"), Interval(75.24529999999999, 75.81530000000001, \"history\"), Interval(75.81530000000001, 76.77529999999999, \"arithmetic\"), Interval(76.77529999999999, 76.9253, \"and\"), Interval(76.9253, 77.39099999999999, \"grammar\"), Interval(77.39099999999999, 78.25399999999999, \"#\"), Interval(78.25399999999999, 78.839, \"thus\"), Interval(78.839, 79.029, \"i\"), Interval(79.029, 79.60900000000001, \"abandoned\"), Interval(79.60900000000001, 79.709, \"at\"), Interval(79.709, 79.84342215566855, \"the\"), Interval(79.84342215566855, 80.1173086286592, \"age\"), Interval(80.1173086286592, 80.189, \"of\"), Interval(80.189, 80.999, \"six\"), Interval(80.999, 81.09619917101475, \"a\"), Interval(81.09619917101475, 82.06899999999999, \"magnificent\"), Interval(82.06899999999999, 82.529, \"career\"), Interval(82.529, 82.63900000000001, \"as\"), Interval(82.63900000000001, 82.71415815034848, \"a\"), Interval(82.71415815034848, 83.17250000000001, \"painter\"), Interval(83.17250000000001, 83.71619999999999, \"#\"), Interval(83.71619999999999, 83.85940058148609, \"i\"), Interval(83.85940058148609, 84.0212, \"was\"), Interval(84.0212, 84.7912, \"discouraged\"), Interval(84.7912, 84.96119999999999, \"by\"), Interval(84.96119999999999, 85.04543970752283, \"the\"), Interval(85.04543970752283, 85.53120000000001, \"failure\"), Interval(85.53120000000001, 85.64602973304781, \"of\"), Interval(85.64602973304781, 85.81762688319779, \"my\"), Interval(85.81762688319779, 86.2612, \"drawing\"), Interval(86.2612, 86.61000195889042, \"number\"), Interval(86.61000195889042, 87.00366600923454, \"one\"), Interval(87.00366600923454, 87.2012, \"and\"), Interval(87.2012, 87.3212, \"of\"), Interval(87.3212, 87.53359838469774, \"my\"), Interval(87.53359838469774, 87.91212151002861, \"drawing\"), Interval(87.91212151002861, 88.19120000000001, \"number\"), Interval(88.19120000000001, 88.6104, \"two\"), Interval(88.6104, 89.05439999999999, \"#\"), Interval(89.05439999999999, 89.74612230852199, \"grownups\"), Interval(89.74612230852199, 90.0694, \"never\"), Interval(90.0694, 90.68601932934666, \"understand\"), Interval(90.68601932934666, 91.04939999999999, \"anything\"), Interval(91.04939999999999, 91.2594, \"by\"), Interval(91.2594, 92.30940000000001, \"themselves\"), Interval(92.30940000000001, 92.4394, \"and\"), Interval(92.4394, 92.54939999999999, \"it\"), Interval(92.54939999999999, 92.6694, \"s\"), Interval(92.6694, 93.3594, \"tiresome\"), Interval(93.3594, 93.49940000000001, \"for\"), Interval(93.49940000000001, 93.9794, \"children\"), Interval(93.9794, 94.11940000000001, \"to\"), Interval(94.11940000000001, 94.5094, \"always\"), Interval(94.5094, 95.26396602560467, \"explain\"), Interval(95.26396602560467, 95.67939999999999, \"things\"), Interval(95.67939999999999, 95.8894, \"for\"), Interval(95.8894, 96.0256067148936, \"them\"), Interval(96.0256067148936, 96.30940000000001, \"again\"), Interval(96.30940000000001, 96.45939999999999, \"and\"), Interval(96.45939999999999, 96.9118, \"again\"), Interval(96.9118, 97.46539999999999, \"#\"), Interval(97.46539999999999, 97.85040000000001, \"so\"), Interval(97.85040000000001, 97.9804, \"i\"), Interval(97.9804, 98.2004, \"had\"), Interval(98.2004, 98.35040000000001, \"to\"), Interval(98.35040000000001, 98.66802228339327, \"choose\"), Interval(98.66802228339327, 98.94040000000001, \"another\"), Interval(98.94040000000001, 99.80459809861097, \"profession\"), Interval(99.80459809861097, 99.94040000000001, \"and\"), Interval(99.94040000000001, 100.0706052043002, \"i\"), Interval(100.0706052043002, 100.3304, \"learned\"), Interval(100.3304, 100.40039999999999, \"to\"), Interval(100.40039999999999, 100.7004, \"fly\"), Interval(100.7004, 101.37389999999999, \"airplanes\"), Interval(101.37389999999999, 102.26679999999999, \"#\"), Interval(102.26679999999999, 102.40180000000001, \"i\"), Interval(102.40180000000001, 102.76278308456605, \"flew\"), Interval(102.76278308456605, 102.89848205044495, \"a\"), Interval(102.89848205044495, 103.22958752718947, \"little\"), Interval(103.22958752718947, 103.40328220351446, \"in\"), Interval(103.40328220351446, 103.68180000000001, \"many\"), Interval(103.68180000000001, 104.1918, \"places\"), Interval(104.1918, 104.5160137237215, \"around\"), Interval(104.5160137237215, 104.64085677233007, \"the\"), Interval(104.64085677233007, 105.33179999999999, \"world\"), Interval(105.33179999999999, 105.52180000000001, \"and\"), Interval(105.52180000000001, 106.0718, \"geography\"), Interval(106.0718, 106.1918, \"it\"), Interval(106.1918, 106.2918, \"s\"), Interval(106.2918, 106.5949218809863, \"true\"), Interval(106.5949218809863, 106.7518, \"has\"), Interval(106.7518, 107.08179999999999, \"served\"), Interval(107.08179999999999, 107.2218, \"me\"), Interval(107.2218, 107.53049999999999, \"well\"), Interval(107.53049999999999, 108.174, \"#\"), Interval(108.174, 108.30832117603362, \"i\"), Interval(108.30832117603362, 108.499, \"could\"), Interval(108.499, 109.15887993249012, \"recognize\"), Interval(109.15887993249012, 109.25899999999999, \"at\"), Interval(109.25899999999999, 109.779, \"first\"), Interval(109.779, 110.299, \"glance\"), Interval(110.299, 110.769, \"china\"), Interval(110.769, 110.95100373210218, \"from\"), Interval(110.95100373210218, 111.5683, \"arizona\"), Interval(111.5683, 111.89250000000001, \"#\"), Interval(111.89250000000001, 112.00497014698894, \"it\"), Interval(112.00497014698894, 112.0675, \"s\"), Interval(112.0675, 112.42750000000001, \"very\"), Interval(112.42750000000001, 112.8375, \"useful\"), Interval(112.8375, 112.98707219408874, \"if\"), Interval(112.98707219408874, 113.04750000000001, \"you\"), Interval(113.04750000000001, 113.21474130500732, \"get\"), Interval(113.21474130500732, 113.5575, \"lost\"), Interval(113.5575, 113.6575, \"at\"), Interval(113.6575, 114.05699999999999, \"night\"), Interval(114.05699999999999, 114.72540000000001, \"#\"), Interval(114.72540000000001, 115.19040000000001, \"i\"), Interval(115.19040000000001, 115.41937007176602, \"have\"), Interval(115.41937007176602, 115.6404, \"had\"), Interval(115.6404, 115.9804, \"during\"), Interval(115.9804, 116.16300073213034, \"my\"), Interval(116.16300073213034, 116.81367755994913, \"life\"), Interval(116.81367755994913, 116.99958522504022, \"a\"), Interval(116.99958522504022, 117.22680570459599, \"lot\"), Interval(117.22680570459599, 117.33525184256578, \"of\"), Interval(117.33525184256578, 117.94040000000001, \"contact\"), Interval(117.94040000000001, 118.0704, \"with\"), Interval(118.0704, 118.44040000000001, \"many\"), Interval(118.44040000000001, 118.89481058860764, \"persons\"), Interval(118.89481058860764, 118.9826003193451, \"of\"), Interval(118.9826003193451, 119.73320000000001, \"consequence\"), Interval(119.73320000000001, 120.1523, \"#\"), Interval(120.1523, 120.47351943668235, \"i\"), Interval(120.47351943668235, 120.64046860060037, \"have\"), Interval(120.64046860060037, 121.04005184538781, \"lived\"), Interval(121.04005184538781, 121.10026301925987, \"a\"), Interval(121.10026301925987, 121.62729999999999, \"lot\"), Interval(121.62729999999999, 122.0573, \"amongst\"), Interval(122.0573, 122.1173, \"the\"), Interval(122.1173, 122.8063, \"grownups\"), Interval(122.8063, 123.19040000000001, \"#\"), Interval(123.19040000000001, 123.26422071277455, \"i\"), Interval(123.26422071277455, 123.3554, \"have\"), Interval(123.3554, 123.6654, \"seen\"), Interval(123.6654, 123.8954, \"them\"), Interval(123.8954, 124.08539999999999, \"from\"), Interval(124.08539999999999, 124.46210627207464, \"close\"), Interval(124.46210627207464, 124.6702, \"up\"), Interval(124.6702, 125.36349999999999, \"#\"), Interval(125.36349999999999, 125.48849999999999, \"it\"), Interval(125.48849999999999, 125.85849999999999, \"hasnt\"), Interval(125.85849999999999, 126.15003672895716, \"much\"), Interval(126.15003672895716, 126.5985, \"improved\"), Interval(126.5985, 126.7585, \"my\"), Interval(126.7585, 127.17450479638106, \"opinion\"), Interval(127.17450479638106, 127.3185, \"of\"), Interval(127.3185, 127.52789999999999, \"them\"), Interval(127.52789999999999, 128.361, \"#\"), Interval(128.361, 129.116, \"whenever\"), Interval(129.116, 129.2771924864987, \"i\"), Interval(129.2771924864987, 129.656, \"met\"), Interval(129.656, 129.85246184391116, \"one\"), Interval(129.85246184391116, 129.946, \"of\"), Interval(129.946, 130.146, \"them\"), Interval(130.146, 130.326, \"that\"), Interval(130.326, 130.736, \"seemed\"), Interval(130.736, 130.796, \"a\"), Interval(130.796, 131.126, \"bit\"), Interval(131.126, 131.456, \"more\"), Interval(131.456, 131.77692408273697, \"clear\"), Interval(131.77692408273697, 132.3744, \"sighted\"), Interval(132.3744, 132.7485, \"#\"), Interval(132.7485, 132.89768953717964, \"i\"), Interval(132.89768953717964, 133.1835, \"tried\"), Interval(133.1835, 133.2935, \"the\"), Interval(133.2935, 133.9535, \"experiment\"), Interval(133.9535, 134.0135, \"of\"), Interval(134.0135, 134.4035, \"showing\"), Interval(134.4035, 134.5735, \"them\"), Interval(134.5735, 134.777114286896, \"my\"), Interval(134.777114286896, 135.1535, \"drawing\"), Interval(135.1535, 135.47158994498977, \"number\"), Interval(135.47158994498977, 135.8235, \"one\"), Interval(135.8235, 135.94904195992925, \"that\"), Interval(135.94904195992925, 136.0535, \"i\"), Interval(136.0535, 136.1487037116312, \"ve\"), Interval(136.1487037116312, 136.5235, \"always\"), Interval(136.5235, 136.9576, \"kept\"), Interval(136.9576, 137.5263, \"#\"), Interval(137.5263, 137.6632023617592, \"i\"), Interval(137.6632023617592, 137.9913, \"wanted\"), Interval(137.9913, 138.11661728628906, \"to\"), Interval(138.11661728628906, 138.3213, \"know\"), Interval(138.3213, 138.4413, \"if\"), Interval(138.4413, 138.5402458289155, \"they\"), Interval(138.5402458289155, 138.6891777384326, \"were\"), Interval(138.6891777384326, 139.1359734669839, \"really\"), Interval(139.1359734669839, 139.2013, \"a\"), Interval(139.2013, 139.6213, \"person\"), Interval(139.6213, 139.7213, \"of\"), Interval(139.7213, 139.98323055223676, \"true\"), Interval(139.98323055223676, 140.7357, \"understanding\"), Interval(140.7357, 141.444, \"#\"), Interval(141.444, 141.579, \"but\"), Interval(141.579, 141.7070130954555, \"they\"), Interval(141.7070130954555, 142.159, \"always\"), Interval(142.159, 142.8736, \"responded\"), Interval(142.8736, 143.3225, \"#\"), Interval(143.3225, 143.4875, \"it\"), Interval(143.4875, 143.5649193930671, \"s\"), Interval(143.5649193930671, 143.62878658813787, \"a\"), Interval(143.62878658813787, 144.0872, \"hat\"), Interval(144.0872, 145.0449, \"#\"), Interval(145.0449, 145.2199, \"so\"), Interval(145.2199, 145.36348704158476, \"i\"), Interval(145.36348704158476, 145.5099, \"would\"), Interval(145.5099, 145.84096594724693, \"never\"), Interval(145.84096594724693, 146.1899, \"speak\"), Interval(146.1899, 146.3099, \"to\"), Interval(146.3099, 146.4699, \"them\"), Interval(146.4699, 146.6599, \"of\"), Interval(146.6599, 146.9299, \"boa\"), Interval(146.9299, 147.9359046458396, \"constrictors\"), Interval(147.9359046458396, 148.1499, \"nor\"), Interval(148.1499, 148.2699, \"of\"), Interval(148.2699, 148.9499, \"primeval\"), Interval(148.9499, 149.78613540528045, \"forests\"), Interval(149.78613540528045, 149.9999, \"nor\"), Interval(149.9999, 150.0899, \"of\"), Interval(150.0899, 150.19796096141405, \"the\"), Interval(150.19796096141405, 150.8328, \"stars\"), Interval(150.8328, 151.5311, \"#\"), Interval(151.5311, 151.62608853917573, \"i\"), Interval(151.62608853917573, 151.8461, \"put\"), Interval(151.8461, 152.28322803561989, \"myself\"), Interval(152.28322803561989, 152.4161, \"at\"), Interval(152.4161, 152.64323986501154, \"their\"), Interval(152.64323986501154, 153.0557, \"level\"), Interval(153.0557, 153.4398, \"#\"), Interval(153.4398, 153.83502616802642, \"i\"), Interval(153.83502616802642, 154.1248, \"talked\"), Interval(154.1248, 154.2248, \"to\"), Interval(154.2248, 154.37994415675257, \"them\"), Interval(154.37994415675257, 154.70806681663066, \"about\"), Interval(154.70806681663066, 155.3338, \"bridge\"), Interval(155.3338, 155.5731, \"#\"), Interval(155.5731, 156.0281, \"golf\"), Interval(156.0281, 156.2824, \"#\"), Interval(156.2824, 156.9574, \"politics\"), Interval(156.9574, 157.19916298762723, \"and\"), Interval(157.19916298762723, 157.8918, \"neckties\"), Interval(157.8918, 158.5702, \"#\"), Interval(158.5702, 158.6752, \"and\"), Interval(158.6752, 158.75629965741035, \"the\"), Interval(158.75629965741035, 159.3352, \"grownup\"), Interval(159.3352, 159.6152, \"was\"), Interval(159.6152, 160.0452, \"glad\"), Interval(160.0452, 160.1752, \"to\"), Interval(160.1752, 160.45053757812317, \"know\"), Interval(160.45053757812317, 160.6752, \"such\"), Interval(160.6752, 160.73804461921384, \"a\"), Interval(160.73804461921384, 161.4852, \"sensible\"), Interval(161.4852, 161.8893, \"man\"), Interval(161.8893, 162.0, \"#\"), Interval(163.0, 163.2605, \"#\"), Interval(163.2605, 163.4255, \"so\"), Interval(163.4255, 163.6055, \"i\"), Interval(163.6055, 163.8955, \"lived\"), Interval(163.8955, 164.4855, \"alone\"), Interval(164.4855, 164.9255, \"without\"), Interval(164.9255, 165.3555, \"anyone\"), Interval(165.3555, 165.4655, \"i\"), Interval(165.4655, 165.6955, \"could\"), Interval(165.6955, 166.0255, \"really\"), Interval(166.0255, 166.3755, \"talk\"), Interval(166.3755, 166.6294, \"to\"), Interval(166.6294, 167.0384, \"#\"), Interval(167.0384, 167.2734, \"until\"), Interval(167.2734, 167.3734, \"a\"), Interval(167.3734, 168.0334, \"breakdown\"), Interval(168.0334, 168.1134, \"in\"), Interval(168.1134, 168.1934, \"the\"), Interval(168.1934, 168.6834, \"sahara\"), Interval(168.6834, 169.1634, \"desert\"), Interval(169.1634, 169.4634, \"six\"), Interval(169.4634, 169.7134, \"years\"), Interval(169.7134, 170.0174, \"ago\"), Interval(170.0174, 170.8555, \"#\"), Interval(170.8555, 171.2305, \"something\"), Interval(171.2305, 171.4105, \"had\"), Interval(171.4105, 171.8205, \"broken\"), Interval(171.8205, 171.9105, \"in\"), Interval(171.9105, 172.0805, \"my\"), Interval(172.0805, 172.57999999999998, \"engine\"), Interval(172.57999999999998, 173.0289, \"#\"), Interval(173.0289, 173.2039, \"and\"), Interval(173.2039, 173.3439, \"as\"), Interval(173.3439, 173.4839, \"i\"), Interval(173.4839, 173.7639, \"had\"), Interval(173.7639, 173.94389999999999, \"with\"), Interval(173.94389999999999, 174.1139, \"me\"), Interval(174.1139, 174.5139, \"neither\"), Interval(174.5139, 174.5439, \"a\"), Interval(174.5439, 175.2039, \"mechanic\"), Interval(175.2039, 175.4239, \"nor\"), Interval(175.4239, 175.6439, \"any\"), Interval(175.6439, 176.4333, \"passengers\"), Interval(176.4333, 176.7874, \"#\"), Interval(176.7874, 176.9424, \"i\"), Interval(176.9424, 177.32240000000002, \"readied\"), Interval(177.32240000000002, 177.8024, \"myself\"), Interval(177.8024, 177.9124, \"to\"), Interval(177.9124, 178.2624, \"try\"), Interval(178.2624, 178.4124, \"and\"), Interval(178.4124, 178.9524, \"carry\"), Interval(178.9524, 179.3024, \"out\"), Interval(179.3024, 179.4424, \"all\"), Interval(179.4424, 179.9924, \"alone\"), Interval(179.9924, 180.0824, \"the\"), Interval(180.0824, 180.6224, \"difficult\"), Interval(180.6224, 181.2207, \"repairs\"), Interval(181.2207, 182.0387, \"#\"), Interval(182.0387, 182.12369999999999, \"for\"), Interval(182.12369999999999, 182.2637, \"me\"), Interval(182.2637, 182.5237, \"it\"), Interval(182.5237, 182.6637, \"was\"), Interval(182.6637, 182.7037, \"a\"), Interval(182.7037, 183.0537, \"matter\"), Interval(183.0537, 183.1637, \"of\"), Interval(183.1637, 183.4437, \"life\"), Interval(183.4437, 183.5637, \"or\"), Interval(183.5637, 183.7983, \"death\"), Interval(183.7983, 184.6114, \"#\"), Interval(184.6114, 184.6564, \"i\"), Interval(184.6564, 184.8464, \"had\"), Interval(184.8464, 185.2764, \"hardly\"), Interval(185.2764, 185.6264, \"enough\"), Interval(185.6264, 185.8864, \"water\"), Interval(185.8864, 186.00639999999999, \"to\"), Interval(186.00639999999999, 186.3764, \"drink\"), Interval(186.3764, 186.5264, \"for\"), Interval(186.5264, 186.5864, \"a\"), Interval(186.5864, 187.0004, \"week\"), Interval(187.0004, 188.1477, \"#\"), Interval(188.1477, 188.2427, \"the\"), Interval(188.2427, 188.6227, \"first\"), Interval(188.6227, 188.8927, \"night\"), Interval(188.8927, 188.9927, \"i\"), Interval(188.9927, 189.2127, \"went\"), Interval(189.2127, 189.2727, \"to\"), Interval(189.2727, 189.5927, \"sleep\"), Interval(189.5927, 189.7127, \"on\"), Interval(189.7127, 189.7827, \"the\"), Interval(189.7827, 190.3324, \"sand\"), Interval(190.3324, 190.5318, \"#\"), Interval(190.5318, 190.5868, \"a\"), Interval(190.5868, 191.1568, \"thousand\"), Interval(191.1568, 191.6068, \"miles\"), Interval(191.6068, 191.7668, \"from\"), Interval(191.7668, 192.0568, \"any\"), Interval(192.0568, 192.4168, \"human\"), Interval(192.4168, 193.1713, \"habitation\"), Interval(193.1713, 193.6202, \"#\"), Interval(193.6202, 194.0152, \"i\"), Interval(194.0152, 194.1852, \"was\"), Interval(194.1852, 194.4452, \"more\"), Interval(194.4452, 195.1452, \"isolated\"), Interval(195.1452, 195.27519999999998, \"than\"), Interval(195.27519999999998, 195.3452, \"a\"), Interval(195.3452, 195.9852, \"shipwrecked\"), Interval(195.9852, 196.2852, \"sailor\"), Interval(196.2852, 196.52519999999998, \"on\"), Interval(196.52519999999998, 196.5652, \"a\"), Interval(196.5652, 197.0852, \"raft\"), Interval(197.0852, 197.1752, \"in\"), Interval(197.1752, 197.2552, \"the\"), Interval(197.2552, 197.4952, \"middle\"), Interval(197.4952, 197.5952, \"of\"), Interval(197.5952, 197.7852, \"the\"), Interval(197.7852, 198.1639, \"ocean\"), Interval(198.1639, 198.7724, \"#\"), Interval(198.7724, 198.9174, \"so\"), Interval(198.9174, 199.0674, \"you\"), Interval(199.0674, 199.23739999999998, \"can\"), Interval(199.23739999999998, 199.6774, \"imagine\"), Interval(199.6774, 199.8174, \"my\"), Interval(199.8174, 200.6621, \"surprise\"), Interval(200.6621, 200.9264, \"#\"), Interval(200.9264, 201.0914, \"when\"), Interval(201.0914, 201.2114, \"at\"), Interval(201.2114, 202.2014, \"daybreak\"), Interval(202.2014, 202.2514, \"a\"), Interval(202.2514, 202.6114, \"funny\"), Interval(202.6114, 202.9414, \"little\"), Interval(202.9414, 203.4614, \"voice\"), Interval(203.4614, 203.6814, \"woke\"), Interval(203.6814, 203.8014, \"me\"), Interval(203.8014, 203.9847, \"up\"), Interval(203.9847, 204.7579, \"#\"), Interval(204.7579, 204.9329, \"it\"), Interval(204.9329, 205.24779999999998, \"said\"), Interval(205.24779999999998, 205.93619999999999, \"#\"), Interval(205.93619999999999, 206.46620000000001, \"please\"), Interval(206.46620000000001, 207.0199, \"#\"), Interval(207.0199, 207.1949, \"draw\"), Interval(207.1949, 207.3249, \"me\"), Interval(207.3249, 207.4049, \"a\"), Interval(207.4049, 208.0645, \"sheep\"), Interval(208.0645, 208.6232, \"#\"), Interval(208.6232, 209.0281, \"what\"), Interval(209.0281, 209.901, \"#\"), Interval(209.901, 210.05599999999998, \"draw\"), Interval(210.05599999999998, 210.24599999999998, \"me\"), Interval(210.24599999999998, 210.286, \"a\"), Interval(210.286, 210.9807, \"sheep\"), Interval(210.9807, 212.0082, \"#\"), Interval(212.0082, 212.1232, \"i\"), Interval(212.1232, 212.4732, \"jumped\"), Interval(212.4732, 212.5532, \"to\"), Interval(212.5532, 212.7532, \"my\"), Interval(212.7532, 213.0332, \"feet\"), Interval(213.0332, 213.1432, \"as\"), Interval(213.1432, 213.2732, \"if\"), Interval(213.2732, 213.3732, \"i\"), Interval(213.3732, 213.45319999999998, \"d\"), Interval(213.45319999999998, 213.5832, \"been\"), Interval(213.5832, 213.9932, \"struck\"), Interval(213.9932, 214.1832, \"by\"), Interval(214.1832, 214.7024, \"lightning\"), Interval(214.7024, 215.0366, \"#\"), Interval(215.0366, 215.1216, \"i\"), Interval(215.1216, 215.4316, \"rubbed\"), Interval(215.4316, 215.64159999999998, \"my\"), Interval(215.64159999999998, 216.0814, \"eyes\"), Interval(216.0814, 216.66, \"#\"), Interval(216.66, 216.725, \"i\"), Interval(216.725, 216.925, \"took\"), Interval(216.925, 216.965, \"a\"), Interval(216.965, 217.375, \"good\"), Interval(217.375, 217.64499999999998, \"look\"), Interval(217.64499999999998, 218.095, \"around\"), Interval(218.095, 218.2694, \"me\"), Interval(218.2694, 218.7881, \"#\"), Interval(218.7881, 219.0131, \"and\"), Interval(219.0131, 219.1231, \"i\"), Interval(219.1231, 219.6831, \"saw\"), Interval(219.6831, 219.8331, \"a\"), Interval(219.8331, 220.2431, \"quite\"), Interval(220.2431, 221.1831, \"extraordinary\"), Interval(221.1831, 221.4031, \"little\"), Interval(221.4031, 221.8722, \"man\"), Interval(221.8722, 222.1166, \"#\"), Interval(222.1166, 222.1816, \"who\"), Interval(222.1816, 222.3416, \"was\"), Interval(222.3416, 222.98160000000001, \"examining\"), Interval(222.98160000000001, 223.1016, \"me\"), Interval(223.1016, 223.9066, \"seriously\"), Interval(223.9066, 224.7347, \"#\"), Interval(224.7347, 224.8997, \"here\"), Interval(224.8997, 225.0097, \"is\"), Interval(225.0097, 225.0897, \"the\"), Interval(225.0897, 225.3997, \"best\"), Interval(225.3997, 225.91969999999998, \"portrait\"), Interval(225.91969999999998, 226.1597, \"that\"), Interval(226.1597, 226.6097, \"later\"), Interval(226.6097, 226.7197, \"i\"), Interval(226.7197, 227.1297, \"managed\"), Interval(227.1297, 227.1997, \"to\"), Interval(227.1997, 227.3897, \"do\"), Interval(227.3897, 227.49970000000002, \"of\"), Interval(227.49970000000002, 227.76330000000002, \"him\"), Interval(227.76330000000002, 228.292, \"#\"), Interval(228.292, 228.78699999999998, \"but\"), Interval(228.78699999999998, 229.087, \"my\"), Interval(229.087, 229.427, \"drawing\"), Interval(229.427, 229.53699999999998, \"of\"), Interval(229.53699999999998, 230.107, \"course\"), Interval(230.107, 230.317, \"is\"), Interval(230.317, 230.607, \"much\"), Interval(230.607, 230.927, \"less\"), Interval(230.927, 231.40699999999998, \"charming\"), Interval(231.40699999999998, 231.55700000000002, \"than\"), Interval(231.55700000000002, 231.707, \"its\"), Interval(231.707, 232.0806, \"model\"), Interval(232.0806, 232.5494, \"#\"), Interval(232.5494, 232.6344, \"it\"), Interval(232.6344, 232.6744, \"s\"), Interval(232.6744, 232.81439999999998, \"not\"), Interval(232.81439999999998, 233.0044, \"my\"), Interval(233.0044, 233.399, \"fault\"), Interval(233.399, 233.803, \"#\"), Interval(233.803, 233.88799999999998, \"i\"), Interval(233.88799999999998, 234.018, \"was\"), Interval(234.018, 234.708, \"discouraged\"), Interval(234.708, 234.798, \"in\"), Interval(234.798, 234.94799999999998, \"my\"), Interval(234.94799999999998, 235.348, \"career\"), Interval(235.348, 235.46800000000002, \"as\"), Interval(235.46800000000002, 235.50799999999998, \"a\"), Interval(235.50799999999998, 235.928, \"painter\"), Interval(235.928, 236.058, \"by\"), Interval(236.058, 236.13799999999998, \"the\"), Interval(236.13799999999998, 236.65800000000002, \"grownups\"), Interval(236.65800000000002, 236.738, \"at\"), Interval(236.738, 236.88799999999998, \"the\"), Interval(236.88799999999998, 237.098, \"age\"), Interval(237.098, 237.168, \"of\"), Interval(237.168, 237.6418, \"six\"), Interval(237.6418, 238.0707, \"#\"), Interval(238.0707, 238.16570000000002, \"and\"), Interval(238.16570000000002, 238.26569999999998, \"i\"), Interval(238.26569999999998, 238.5857, \"hadn\"), Interval(238.5857, 238.6157, \"t\"), Interval(238.6157, 238.9057, \"learned\"), Interval(238.9057, 238.97570000000002, \"to\"), Interval(238.97570000000002, 239.20569999999998, \"draw\"), Interval(239.20569999999998, 239.6257, \"anything\"), Interval(239.6257, 240.16570000000002, \"except\"), Interval(240.16570000000002, 240.39569999999998, \"boa\"), Interval(240.39569999999998, 241.1957, \"constrictors\"), Interval(241.1957, 241.72570000000002, \"closed\"), Interval(241.72570000000002, 241.8457, \"and\"), Interval(241.8457, 242.214, \"open\"), Interval(242.214, 243.2266, \"#\"), Interval(243.2266, 243.6016, \"i\"), Interval(243.6016, 244.02159999999998, \"stared\"), Interval(244.02159999999998, 244.14159999999998, \"at\"), Interval(244.14159999999998, 244.3416, \"this\"), Interval(244.3416, 244.6916, \"sudden\"), Interval(244.6916, 245.4716, \"apparition\"), Interval(245.4716, 245.9716, \"wide\"), Interval(245.9716, 246.2516, \"eyed\"), Interval(246.2516, 246.3616, \"with\"), Interval(246.3616, 247.1255, \"astonishment\"), Interval(247.1255, 247.3399, \"#\"), Interval(247.3399, 248.0649, \"remember\"), Interval(248.0649, 248.23489999999998, \"that\"), Interval(248.23489999999998, 248.3449, \"i\"), Interval(248.3449, 248.54489999999998, \"was\"), Interval(248.54489999999998, 248.5949, \"a\"), Interval(248.5949, 249.23489999999998, \"thousand\"), Interval(249.23489999999998, 249.69490000000002, \"miles\"), Interval(249.69490000000002, 249.9549, \"from\"), Interval(249.9549, 250.2749, \"any\"), Interval(250.2749, 250.8249, \"inhabited\"), Interval(250.8249, 251.2338, \"region\"), Interval(251.2338, 251.70260000000002, \"#\"), Interval(251.70260000000002, 251.86759999999998, \"and\"), Interval(251.86759999999998, 252.07760000000002, \"yet\"), Interval(252.07760000000002, 252.30759999999998, \"this\"), Interval(252.30759999999998, 252.5476, \"little\"), Interval(252.5476, 252.9476, \"fellow\"), Interval(252.9476, 253.2976, \"seemed\"), Interval(253.2976, 253.74759999999998, \"neither\"), Interval(253.74759999999998, 254.2176, \"lost\"), Interval(254.2176, 254.5476, \"nor\"), Interval(254.5476, 254.86759999999998, \"half\"), Interval(254.86759999999998, 255.0676, \"dead\"), Interval(255.0676, 255.24759999999998, \"with\"), Interval(255.24759999999998, 255.7713, \"fatigue\"), Interval(255.7713, 256.0756, \"#\"), Interval(256.0756, 256.2406, \"nor\"), Interval(256.2406, 256.8906, \"starved\"), Interval(256.8906, 257.0106, \"or\"), Interval(257.0106, 257.4306, \"dying\"), Interval(257.4306, 257.5306, \"of\"), Interval(257.5306, 257.9606, \"thirst\"), Interval(257.9606, 258.0406, \"or\"), Interval(258.0406, 258.4301, \"fear\"), Interval(258.4301, 259.44780000000003, \"#\"), Interval(259.44780000000003, 259.5828, \"he\"), Interval(259.5828, 259.8328, \"looked\"), Interval(259.8328, 260.3328, \"nothing\"), Interval(260.3328, 260.5928, \"like\"), Interval(260.5928, 260.6328, \"a\"), Interval(260.6328, 261.1928, \"child\"), Interval(261.1928, 261.4528, \"lost\"), Interval(261.4528, 261.5528, \"in\"), Interval(261.5528, 261.6628, \"the\"), Interval(261.6628, 261.8728, \"middle\"), Interval(261.8728, 261.9928, \"of\"), Interval(261.9928, 262.0628, \"the\"), Interval(262.0628, 262.8528, \"desert\"), Interval(262.8528, 262.8828, \"a\"), Interval(262.8828, 263.5228, \"thousand\"), Interval(263.5228, 263.9928, \"miles\"), Interval(263.9928, 264.1528, \"from\"), Interval(264.1528, 264.3628, \"any\"), Interval(264.3628, 264.9828, \"inhabited\"), Interval(264.9828, 265.4558, \"region\"), Interval(265.4558, 266.3986, \"#\"), Interval(266.3986, 266.5236, \"when\"), Interval(266.5236, 266.6336, \"i\"), Interval(266.6336, 267.0636, \"finally\"), Interval(267.0636, 267.4636, \"managed\"), Interval(267.4636, 267.5336, \"to\"), Interval(267.5336, 267.9536, \"speak\"), Interval(267.9536, 268.0736, \"i\"), Interval(268.0736, 268.4131, \"said\"), Interval(268.4131, 269.4857, \"#\"), Interval(269.4857, 269.7307, \"what\"), Interval(269.7307, 269.7707, \"are\"), Interval(269.7707, 269.9207, \"you\"), Interval(269.9207, 270.2707, \"doing\"), Interval(270.2707, 270.6157, \"here\"), Interval(270.6157, 271.27909999999997, \"#\"), Interval(271.27909999999997, 271.41409999999996, \"and\"), Interval(271.41409999999996, 271.5141, \"he\"), Interval(271.5141, 272.2041, \"repeated\"), Interval(272.2041, 272.5241, \"very\"), Interval(272.5241, 273.1388, \"slowly\"), Interval(273.1388, 273.48789999999997, \"#\"), Interval(273.48789999999997, 273.6429, \"as\"), Interval(273.6429, 273.7629, \"if\"), Interval(273.7629, 273.8529, \"it\"), Interval(273.8529, 273.9829, \"was\"), Interval(273.9829, 274.4729, \"something\"), Interval(274.4729, 274.9529, \"very\"), Interval(274.9529, 275.6876, \"serious\"), Interval(275.6876, 276.3261, \"#\"), Interval(276.3261, 277.0909, \"please\"), Interval(277.0909, 277.7394, \"#\"), Interval(277.7394, 278.0344, \"draw\"), Interval(278.0344, 278.3344, \"me\"), Interval(278.3344, 278.3844, \"a\"), Interval(278.3844, 279.08910000000003, \"sheep\"), Interval(279.08910000000003, 280.6155, \"#\"), Interval(280.6155, 280.7605, \"when\"), Interval(280.7605, 280.8105, \"a\"), Interval(280.8105, 281.2605, \"mystery\"), Interval(281.2605, 281.4505, \"is\"), Interval(281.4505, 281.6205, \"too\"), Interval(281.6205, 282.5405, \"overpowering\"), Interval(282.5405, 282.8105, \"one\"), Interval(282.8105, 283.1605, \"dare\"), Interval(283.1605, 283.4105, \"not\"), Interval(283.4105, 284.1398, \"disobey\"), Interval(284.1398, 284.8132, \"#\"), Interval(284.8132, 285.3582, \"absurd\"), Interval(285.3582, 285.4782, \"as\"), Interval(285.4782, 285.65819999999997, \"it\"), Interval(285.65819999999997, 285.9682, \"seemed\"), Interval(285.9682, 286.1082, \"to\"), Interval(286.1082, 286.27819999999997, \"me\"), Interval(286.27819999999997, 286.3082, \"a\"), Interval(286.3082, 286.9282, \"thousand\"), Interval(286.9282, 287.40819999999997, \"miles\"), Interval(287.40819999999997, 287.5982, \"from\"), Interval(287.5982, 287.8282, \"any\"), Interval(287.8282, 288.2682, \"human\"), Interval(288.2682, 289.0682, \"habitation\"), Interval(289.0682, 289.4382, \"and\"), Interval(289.4382, 289.5982, \"in\"), Interval(289.5982, 290.0782, \"danger\"), Interval(290.0782, 290.2282, \"of\"), Interval(290.2282, 290.60179999999997, \"death\"), Interval(290.60179999999997, 291.1405, \"#\"), Interval(291.1405, 291.2755, \"i\"), Interval(291.2755, 291.5155, \"took\"), Interval(291.5155, 291.70550000000003, \"out\"), Interval(291.70550000000003, 291.7955, \"of\"), Interval(291.7955, 291.95550000000003, \"my\"), Interval(291.95550000000003, 292.3555, \"pocket\"), Interval(292.3555, 292.4055, \"a\"), Interval(292.4055, 292.70550000000003, \"sheet\"), Interval(292.70550000000003, 292.7755, \"of\"), Interval(292.7755, 293.18550000000005, \"paper\"), Interval(293.18550000000005, 293.32550000000003, \"and\"), Interval(293.32550000000003, 293.3555, \"a\"), Interval(293.3555, 293.8043, \"pen\"), Interval(293.8043, 294.40790000000004, \"#\"), Interval(294.40790000000004, 294.77290000000005, \"but\"), Interval(294.77290000000005, 294.9329, \"then\"), Interval(294.9329, 295.03290000000004, \"i\"), Interval(295.03290000000004, 295.8429, \"remembered\"), Interval(295.8429, 296.0529, \"that\"), Interval(296.0529, 296.1129, \"i\"), Interval(296.1129, 296.3429, \"had\"), Interval(296.3429, 296.8229, \"mainly\"), Interval(296.8229, 297.2329, \"studied\"), Interval(297.2329, 297.8929, \"geography\"), Interval(297.8929, 298.4829, \"history\"), Interval(298.4829, 299.0829, \"arithmetic\"), Interval(299.0829, 299.2429, \"and\"), Interval(299.2429, 299.6861, \"grammar\"), Interval(299.6861, 300.2348, \"#\"), Interval(300.2348, 300.4198, \"and\"), Interval(300.4198, 300.5298, \"i\"), Interval(300.5298, 300.8498, \"told\"), Interval(300.8498, 300.9398, \"the\"), Interval(300.9398, 301.1698, \"little\"), Interval(301.1698, 301.6142, \"fellow\"), Interval(301.6142, 301.9285, \"#\"), Interval(301.9285, 301.9735, \"a\"), Interval(301.9735, 302.23350000000005, \"little\"), Interval(302.23350000000005, 302.8331, \"crossly\"), Interval(302.8331, 303.2371, \"#\"), Interval(303.2371, 303.5521, \"that\"), Interval(303.5521, 303.63210000000004, \"i\"), Interval(303.63210000000004, 303.9021, \"didn\"), Interval(303.9021, 303.9521, \"t\"), Interval(303.9521, 304.0221, \"know\"), Interval(304.0221, 304.2221, \"how\"), Interval(304.2221, 304.37210000000005, \"to\"), Interval(304.37210000000005, 304.69680000000005, \"draw\"), Interval(304.69680000000005, 305.47990000000004, \"#\"), Interval(305.47990000000004, 305.5749, \"he\"), Interval(305.5749, 306.1299, \"replied\"), Interval(306.1299, 306.5239, \"#\"), Interval(306.5239, 306.62890000000004, \"it\"), Interval(306.62890000000004, 306.95889999999997, \"doesn\"), Interval(306.95889999999997, 306.9889, \"t\"), Interval(306.9889, 307.5086, \"matter\"), Interval(307.5086, 307.9675, \"#\"), Interval(307.9675, 308.1125, \"draw\"), Interval(308.1125, 308.3125, \"me\"), Interval(308.3125, 308.3425, \"a\"), Interval(308.3425, 308.97720000000004, \"sheep\"), Interval(308.97720000000004, 310.0946, \"#\"), Interval(310.0946, 310.2596, \"as\"), Interval(310.2596, 310.3696, \"i\"), Interval(310.3696, 310.43960000000004, \"d\"), Interval(310.43960000000004, 310.68960000000004, \"never\"), Interval(310.68960000000004, 311.0296, \"drawn\"), Interval(311.0296, 311.1196, \"a\"), Interval(311.1196, 311.5389, \"sheep\"), Interval(311.5389, 311.8781, \"#\"), Interval(311.8781, 312.0331, \"i\"), Interval(312.0331, 312.5131, \"redrew\"), Interval(312.5131, 312.6631, \"for\"), Interval(312.6631, 312.86310000000003, \"him\"), Interval(312.86310000000003, 313.10310000000004, \"one\"), Interval(313.10310000000004, 313.2131, \"of\"), Interval(313.2131, 313.3731, \"the\"), Interval(313.3731, 313.6731, \"only\"), Interval(313.6731, 313.8731, \"two\"), Interval(313.8731, 314.4431, \"drawings\"), Interval(314.4431, 314.59310000000005, \"that\"), Interval(314.59310000000005, 314.6631, \"i\"), Interval(314.6631, 314.84310000000005, \"was\"), Interval(314.84310000000005, 315.2931, \"capable\"), Interval(315.2931, 315.5376, \"of\"), Interval(315.5376, 316.0114, \"#\"), Interval(316.0114, 316.07640000000004, \"the\"), Interval(316.07640000000004, 316.3864, \"one\"), Interval(316.3864, 316.5364, \"of\"), Interval(316.5364, 316.6364, \"the\"), Interval(316.6364, 317.2264, \"closed\"), Interval(317.2264, 317.4864, \"boa\"), Interval(317.4864, 318.13070000000005, \"constrictor\"), Interval(318.13070000000005, 318.6494, \"#\"), Interval(318.6494, 318.7944, \"and\"), Interval(318.7944, 318.8844, \"i\"), Interval(318.8844, 319.0544, \"was\"), Interval(319.0544, 319.8544, \"astounded\"), Interval(319.8544, 319.9644, \"to\"), Interval(319.9644, 320.1944, \"hear\"), Interval(320.1944, 320.2944, \"the\"), Interval(320.2944, 320.5444, \"little\"), Interval(320.5444, 320.8244, \"fellow\"), Interval(320.8244, 321.4438, \"respond\"), Interval(321.4438, 321.9476, \"#\"), Interval(321.9476, 322.1426, \"no\"), Interval(322.1426, 322.9476, \"no\"), Interval(322.9476, 323.3316, \"#\"), Interval(323.3316, 323.6766, \"i\"), Interval(323.6766, 323.8566, \"don\"), Interval(323.8566, 323.9066, \"t\"), Interval(323.9066, 324.1766, \"want\"), Interval(324.1766, 324.27660000000003, \"an\"), Interval(324.27660000000003, 324.6666, \"elephant\"), Interval(324.6666, 325.0666, \"inside\"), Interval(325.0666, 325.1166, \"a\"), Interval(325.1166, 325.5366, \"boa\"), Interval(325.5366, 326.5652, \"constrictor\"), Interval(326.5652, 326.9393, \"#\"), Interval(326.9393, 327.0043, \"a\"), Interval(327.0043, 327.3443, \"boa\"), Interval(327.3443, 328.0043, \"constrictor\"), Interval(328.0043, 328.1243, \"is\"), Interval(328.1243, 328.4543, \"very\"), Interval(328.4543, 329.35850000000005, \"dangerous\"), Interval(329.35850000000005, 329.6178, \"#\"), Interval(329.6178, 329.7428, \"and\"), Interval(329.7428, 329.92280000000005, \"an\"), Interval(329.92280000000005, 330.4528, \"elephant\"), Interval(330.4528, 330.5828, \"is\"), Interval(330.5828, 330.82280000000003, \"very\"), Interval(330.82280000000003, 331.7123, \"cumbersome\"), Interval(331.7123, 332.12620000000004, \"#\"), Interval(332.12620000000004, 332.2912, \"where\"), Interval(332.2912, 332.50120000000004, \"i\"), Interval(332.50120000000004, 332.8212, \"live\"), Interval(332.8212, 333.24120000000005, \"everything\"), Interval(333.24120000000005, 333.3912, \"is\"), Interval(333.3912, 333.6512, \"very\"), Interval(333.6512, 334.32590000000005, \"small\"), Interval(334.32590000000005, 334.67510000000004, \"#\"), Interval(334.67510000000004, 334.7501, \"i\"), Interval(334.7501, 335.04010000000005, \"need\"), Interval(335.04010000000005, 335.0801, \"a\"), Interval(335.0801, 335.82460000000003, \"sheep\"), Interval(335.82460000000003, 336.1039, \"#\"), Interval(336.1039, 336.25890000000004, \"draw\"), Interval(336.25890000000004, 336.45889999999997, \"me\"), Interval(336.45889999999997, 336.49890000000005, \"a\"), Interval(336.49890000000005, 337.0686, \"sheep\"), Interval(337.0686, 337.9266, \"#\"), Interval(337.9266, 338.1016, \"so\"), Interval(338.1016, 338.25160000000005, \"i\"), Interval(338.25160000000005, 338.5965, \"drew\"), Interval(338.5965, 339.5842, \"#\"), Interval(339.5842, 339.7292, \"he\"), Interval(339.7292, 340.0092, \"looked\"), Interval(340.0092, 340.5692, \"carefully\"), Interval(340.5692, 340.78920000000005, \"then\"), Interval(340.78920000000005, 341.1587, \"said\"), Interval(341.1587, 341.7124, \"#\"), Interval(341.7124, 342.1274, \"no\"), Interval(342.1274, 342.4674, \"this\"), Interval(342.4674, 342.6374, \"one\"), Interval(342.6374, 342.7174, \"s\"), Interval(342.7174, 343.1874, \"already\"), Interval(343.1874, 343.53740000000005, \"very\"), Interval(343.53740000000005, 344.1118, \"sick\"), Interval(344.1118, 344.43600000000004, \"#\"), Interval(344.43600000000004, 344.69100000000003, \"make\"), Interval(344.69100000000003, 345.06100000000004, \"another\"), Interval(345.06100000000004, 345.3257, \"one\"), Interval(345.3257, 346.069, \"#\"), Interval(346.069, 346.194, \"i\"), Interval(346.194, 346.43399999999997, \"drew\"), Interval(346.43399999999997, 346.8989, \"again\"), Interval(346.8989, 347.6272, \"#\"), Interval(347.6272, 347.7822, \"my\"), Interval(347.7822, 348.21220000000005, \"friend\"), Interval(348.21220000000005, 348.86220000000003, \"smiled\"), Interval(348.86220000000003, 349.35220000000004, \"gently\"), Interval(349.35220000000004, 349.5122, \"and\"), Interval(349.5122, 350.3616, \"indulgently\"), Interval(350.3616, 350.9602, \"#\"), Interval(350.9602, 351.0852, \"you\"), Interval(351.0852, 351.2452, \"can\"), Interval(351.2452, 351.5052, \"see\"), Interval(351.5052, 352.27520000000004, \"yourself\"), Interval(352.27520000000004, 352.4352, \"this\"), Interval(352.4352, 352.52520000000004, \"this\"), Interval(352.52520000000004, 352.76520000000005, \"isn\"), Interval(352.76520000000005, 352.8752, \"t\"), Interval(352.8752, 352.9252, \"a\"), Interval(352.9252, 353.39520000000005, \"sheep\"), Interval(353.39520000000005, 353.53520000000003, \"it\"), Interval(353.53520000000003, 353.5952, \"s\"), Interval(353.5952, 353.64520000000005, \"a\"), Interval(353.64520000000005, 354.34450000000004, \"ram\"), Interval(354.34450000000004, 354.67870000000005, \"#\"), Interval(354.67870000000005, 354.7837, \"it\"), Interval(354.7837, 355.1037, \"has\"), Interval(355.1037, 355.9486, \"horns\"), Interval(355.9486, 356.9113, \"#\"), Interval(356.9113, 357.1363, \"so\"), Interval(357.1363, 357.3963, \"once\"), Interval(357.3963, 357.6863, \"again\"), Interval(357.6863, 357.84630000000004, \"i\"), Interval(357.84630000000004, 358.3963, \"redid\"), Interval(358.3963, 358.59630000000004, \"my\"), Interval(358.59630000000004, 359.0811, \"drawing\"), Interval(359.0811, 359.37030000000004, \"#\"), Interval(359.37030000000004, 359.50530000000003, \"but\"), Interval(359.50530000000003, 359.6053, \"it\"), Interval(359.6053, 359.7753, \"was\"), Interval(359.7753, 360.4199, \"rejected\"), Interval(360.4199, 360.66920000000005, \"#\"), Interval(360.66920000000005, 360.8742, \"like\"), Interval(360.8742, 360.93420000000003, \"the\"), Interval(360.93420000000003, 361.4842, \"previous\"), Interval(361.4842, 361.86850000000004, \"ones\"), Interval(361.86850000000004, 362.56190000000004, \"#\"), Interval(362.56190000000004, 362.9069, \"this\"), Interval(362.9069, 363.1269, \"one\"), Interval(363.1269, 363.2869, \"s\"), Interval(363.2869, 363.56690000000003, \"too\"), Interval(363.56690000000003, 364.5369, \"old\"), Interval(364.5369, 364.5769, \"i\"), Interval(364.5769, 364.6269, \"i\"), Interval(364.6269, 364.8969, \"want\"), Interval(364.8969, 364.92690000000005, \"a\"), Interval(364.92690000000005, 365.3569, \"sheep\"), Interval(365.3569, 365.4869, \"that\"), Interval(365.4869, 365.7569, \"will\"), Interval(365.7569, 366.05690000000004, \"live\"), Interval(366.05690000000004, 366.1069, \"a\"), Interval(366.1069, 366.3969, \"long\"), Interval(366.3969, 367.03560000000004, \"time\"), Interval(367.03560000000004, 368.0083, \"#\"), Interval(368.0083, 368.2733, \"so\"), Interval(368.2733, 368.6033, \"getting\"), Interval(368.6033, 369.3633, \"impatient\"), Interval(369.3633, 369.6533, \"as\"), Interval(369.6533, 369.79330000000004, \"i\"), Interval(369.79330000000004, 370.04330000000004, \"was\"), Interval(370.04330000000004, 370.30330000000004, \"eager\"), Interval(370.30330000000004, 370.4033, \"to\"), Interval(370.4033, 370.7533, \"start\"), Interval(370.7533, 371.3533, \"dismantling\"), Interval(371.3533, 371.5233, \"my\"), Interval(371.5233, 371.9922, \"engine\"), Interval(371.9922, 372.3263, \"#\"), Interval(372.3263, 372.5713, \"i\"), Interval(372.5713, 373.1213, \"hastily\"), Interval(373.1213, 373.72130000000004, \"sketched\"), Interval(373.72130000000004, 374.0313, \"this\"), Interval(374.0313, 374.47040000000004, \"drawing\"), Interval(374.47040000000004, 374.7547, \"#\"), Interval(374.7547, 374.89970000000005, \"and\"), Interval(374.89970000000005, 374.9997, \"i\"), Interval(374.9997, 375.4946, \"snapped\"), Interval(375.4946, 376.1381, \"#\"), Interval(376.1381, 376.5131, \"this\"), Interval(376.5131, 376.7731, \"here\"), Interval(376.7731, 376.9431, \"is\"), Interval(376.9431, 377.0131, \"the\"), Interval(377.0131, 377.47310000000004, \"box\"), Interval(377.47310000000004, 377.5331, \"the\"), Interval(377.5331, 377.59310000000005, \"the\"), Interval(377.59310000000005, 377.9131, \"sheep\"), Interval(377.9131, 378.0031, \"you\"), Interval(378.0031, 378.2931, \"want\"), Interval(378.2931, 378.3931, \"is\"), Interval(378.3931, 379.0322, \"inside\"), Interval(379.0322, 379.7606, \"#\"), Interval(379.7606, 379.8756, \"but\"), Interval(379.8756, 380.0156, \"i\"), Interval(380.0156, 380.2056, \"was\"), Interval(380.2056, 380.5056, \"very\"), Interval(380.5056, 381.3156, \"surprised\"), Interval(381.3156, 381.41560000000004, \"to\"), Interval(381.41560000000004, 381.67560000000003, \"see\"), Interval(381.67560000000003, 381.7356, \"the\"), Interval(381.7356, 382.1456, \"face\"), Interval(382.1456, 382.2556, \"of\"), Interval(382.2556, 382.4556, \"my\"), Interval(382.4556, 382.8956, \"young\"), Interval(382.8956, 383.3656, \"judge\"), Interval(383.3656, 383.7056, \"light\"), Interval(383.7056, 383.9845, \"up\"), Interval(383.9845, 384.6881, \"#\"), Interval(384.6881, 384.7531, \"it\"), Interval(384.7531, 384.9231, \"s\"), Interval(384.9231, 385.6731, \"exactly\"), Interval(385.6731, 385.8131, \"the\"), Interval(385.8131, 385.98310000000004, \"way\"), Interval(385.98310000000004, 386.09310000000005, \"i\"), Interval(386.09310000000005, 386.6924, \"wanted\"), Interval(386.6924, 387.0915, \"#\"), Interval(387.0915, 387.3965, \"do\"), Interval(387.3965, 387.4665, \"you\"), Interval(387.4665, 387.8065, \"think\"), Interval(387.8065, 387.9465, \"this\"), Interval(387.9465, 388.28650000000005, \"sheep\"), Interval(388.28650000000005, 388.4765, \"needs\"), Interval(388.4765, 388.5165, \"a\"), Interval(388.5165, 388.67650000000003, \"lot\"), Interval(388.67650000000003, 388.79650000000004, \"of\"), Interval(388.79650000000004, 389.4155, \"grass\"), Interval(389.4155, 390.1637, \"#\"), Interval(390.1637, 390.6137, \"why\"), Interval(390.6137, 391.3171, \"#\"), Interval(391.3171, 391.62210000000005, \"because\"), Interval(391.62210000000005, 391.8621, \"where\"), Interval(391.8621, 392.0221, \"i\"), Interval(392.0221, 392.12210000000005, \"m\"), Interval(392.12210000000005, 392.4221, \"from\"), Interval(392.4221, 392.8521, \"everything\"), Interval(392.8521, 393.00210000000004, \"is\"), Interval(393.00210000000004, 393.2721, \"very\"), Interval(393.2721, 393.8566, \"small\"), Interval(393.8566, 394.6447, \"#\"), Interval(394.6447, 394.8097, \"there\"), Interval(394.8097, 394.9497, \"will\"), Interval(394.9497, 395.4397, \"certainly\"), Interval(395.4397, 395.5697, \"be\"), Interval(395.5697, 395.9046, \"enough\"), Interval(395.9046, 396.1539, \"#\"), Interval(396.1539, 396.4189, \"i\"), Interval(396.4189, 396.6689, \"gave\"), Interval(396.6689, 396.8189, \"you\"), Interval(396.8189, 396.86890000000005, \"a\"), Interval(396.86890000000005, 397.1489, \"very\"), Interval(397.1489, 397.61890000000005, \"small\"), Interval(397.61890000000005, 398.15319999999997, \"sheep\"), Interval(398.15319999999997, 399.1109, \"#\"), Interval(399.1109, 399.2759, \"he\"), Interval(399.2759, 399.6059, \"leaned\"), Interval(399.6059, 399.8759, \"his\"), Interval(399.8759, 400.1659, \"head\"), Interval(400.1659, 400.5259, \"towards\"), Interval(400.5259, 400.58590000000004, \"the\"), Interval(400.58590000000004, 401.07550000000003, \"drawing\"), Interval(401.07550000000003, 401.6291, \"#\"), Interval(401.6291, 401.8441, \"not\"), Interval(401.8441, 402.2741, \"that\"), Interval(402.2741, 402.7836, \"small\"), Interval(402.7836, 403.4072, \"#\"), Interval(403.4072, 403.9667, \"look\"), Interval(403.9667, 404.3058, \"#\"), Interval(404.3058, 404.3908, \"he\"), Interval(404.3908, 404.49080000000004, \"s\"), Interval(404.49080000000004, 404.7908, \"fallen\"), Interval(404.7908, 405.5154, \"asleep\"), Interval(405.5154, 406.34839999999997, \"#\"), Interval(406.34839999999997, 406.6134, \"and\"), Interval(406.6134, 406.9234, \"that\"), Interval(406.9234, 406.9934, \"s\"), Interval(406.9934, 407.1634, \"how\"), Interval(407.1634, 407.27340000000004, \"i\"), Interval(407.27340000000004, 407.5634, \"met\"), Interval(407.5634, 407.64340000000004, \"the\"), Interval(407.64340000000004, 407.88340000000005, \"little\"), Interval(407.88340000000005, 408.4675, \"prince\"), Interval(408.4675, 408.6, \"#\"), Interval(409.6, 410.0457, \"#\"), Interval(410.0457, 410.1807, \"it\"), Interval(410.1807, 410.4107, \"took\"), Interval(410.4107, 410.5607, \"me\"), Interval(410.5607, 410.5907, \"a\"), Interval(410.5907, 410.9907, \"long\"), Interval(410.9907, 411.38070000000005, \"time\"), Interval(411.38070000000005, 411.4907, \"to\"), Interval(411.4907, 411.8707, \"find\"), Interval(411.8707, 412.07070000000004, \"out\"), Interval(412.07070000000004, 412.2207, \"where\"), Interval(412.2207, 412.3007, \"he\"), Interval(412.3007, 412.63070000000005, \"came\"), Interval(412.63070000000005, 412.93010000000004, \"from\"), Interval(412.93010000000004, 413.4537, \"#\"), Interval(413.4537, 413.7687, \"the\"), Interval(413.7687, 413.99870000000004, \"little\"), Interval(413.99870000000004, 414.69870000000003, \"prince\"), Interval(414.69870000000003, 414.8987, \"who\"), Interval(414.8987, 415.18870000000004, \"asked\"), Interval(415.18870000000004, 415.31870000000004, \"me\"), Interval(415.31870000000004, 415.55870000000004, \"many\"), Interval(415.55870000000004, 416.4087, \"questions\"), Interval(416.4087, 416.8487, \"never\"), Interval(416.8487, 417.13870000000003, \"seemed\"), Interval(417.13870000000003, 417.2287, \"to\"), Interval(417.2287, 417.42870000000005, \"hear\"), Interval(417.42870000000005, 417.7087, \"my\"), Interval(417.7087, 417.97180000000003, \"own\"), Interval(417.97180000000003, 419.0043, \"#\"), Interval(419.0043, 419.1293, \"it\"), Interval(419.1293, 419.2893, \"was\"), Interval(419.2893, 419.3693, \"the\"), Interval(419.3693, 419.7493, \"words\"), Interval(419.7493, 420.1993, \"spoken\"), Interval(420.1993, 420.3593, \"by\"), Interval(420.3593, 421.0093, \"chance\"), Interval(421.0093, 421.20930000000004, \"that\"), Interval(421.20930000000004, 421.51930000000004, \"little\"), Interval(421.51930000000004, 421.6793, \"by\"), Interval(421.6793, 422.06850000000003, \"little\"), Interval(422.06850000000003, 422.36280000000005, \"#\"), Interval(422.36280000000005, 422.87780000000004, \"revealed\"), Interval(422.87780000000004, 423.29780000000005, \"everything\"), Interval(423.29780000000005, 423.43780000000004, \"to\"), Interval(423.43780000000004, 423.6476, \"me\"), Interval(423.6476, 424.49060000000003, \"#\"), Interval(424.49060000000003, 424.6956, \"so\"), Interval(424.6956, 424.8256, \"when\"), Interval(424.8256, 424.9456, \"he\"), Interval(424.9456, 425.16560000000004, \"saw\"), Interval(425.16560000000004, 425.40560000000005, \"my\"), Interval(425.40560000000005, 425.8756, \"airplane\"), Interval(425.8756, 426.0056, \"for\"), Interval(426.0056, 426.0756, \"the\"), Interval(426.0756, 426.42560000000003, \"first\"), Interval(426.42560000000003, 426.7851, \"time\"), Interval(426.7851, 427.38370000000003, \"#\"), Interval(427.38370000000003, 427.56870000000004, \"i\"), Interval(427.56870000000004, 427.8287, \"won\"), Interval(427.8287, 427.8587, \"t\"), Interval(427.8587, 428.12870000000004, \"draw\"), Interval(428.12870000000004, 428.36870000000005, \"my\"), Interval(428.36870000000005, 428.88870000000003, \"airplane\"), Interval(428.88870000000003, 428.9787, \"it\"), Interval(428.9787, 429.11870000000005, \"would\"), Interval(429.11870000000005, 429.2687, \"be\"), Interval(429.2687, 429.3287, \"a\"), Interval(429.3287, 429.7287, \"drawing\"), Interval(429.7287, 430.0387, \"far\"), Interval(430.0387, 430.2387, \"too\"), Interval(430.2387, 430.9887, \"complicated\"), Interval(430.9887, 431.18870000000004, \"for\"), Interval(431.18870000000004, 431.3922, \"me\"), Interval(431.3922, 431.88100000000003, \"#\"), Interval(431.88100000000003, 431.98600000000005, \"he\"), Interval(431.98600000000005, 432.346, \"asked\"), Interval(432.346, 432.5658, \"me\"), Interval(432.5658, 433.24420000000003, \"#\"), Interval(433.24420000000003, 433.41920000000005, \"what\"), Interval(433.41920000000005, 433.5092, \"s\"), Interval(433.5092, 433.78920000000005, \"that\"), Interval(433.78920000000005, 434.05920000000003, \"thing\"), Interval(434.05920000000003, 434.44910000000004, \"there\"), Interval(434.44910000000004, 435.2971, \"#\"), Interval(435.2971, 435.43210000000005, \"it\"), Interval(435.43210000000005, 435.4621, \"s\"), Interval(435.4621, 435.6421, \"not\"), Interval(435.6421, 435.68210000000005, \"a\"), Interval(435.68210000000005, 436.06190000000004, \"thing\"), Interval(436.06190000000004, 436.26140000000004, \"#\"), Interval(436.26140000000004, 436.3664, \"it\"), Interval(436.3664, 436.9562, \"flies\"), Interval(436.9562, 437.1557, \"#\"), Interval(437.1557, 437.25070000000005, \"it\"), Interval(437.25070000000005, 437.2907, \"s\"), Interval(437.2907, 437.3607, \"an\"), Interval(437.3607, 437.8707, \"airplane\"), Interval(437.8707, 438.0407, \"it\"), Interval(438.0407, 438.13070000000005, \"it\"), Interval(438.13070000000005, 438.1707, \"s\"), Interval(438.1707, 438.4107, \"my\"), Interval(438.4107, 438.90470000000005, \"airplane\"), Interval(438.90470000000005, 439.60810000000004, \"#\"), Interval(439.60810000000004, 439.73310000000004, \"and\"), Interval(439.73310000000004, 439.8331, \"i\"), Interval(439.8331, 440.0131, \"was\"), Interval(440.0131, 440.4531, \"proud\"), Interval(440.4531, 440.5631, \"to\"), Interval(440.5631, 440.78310000000005, \"have\"), Interval(440.78310000000005, 440.9331, \"him\"), Interval(440.9331, 441.16310000000004, \"know\"), Interval(441.16310000000004, 441.29310000000004, \"that\"), Interval(441.29310000000004, 441.3831, \"i\"), Interval(441.3831, 441.54310000000004, \"could\"), Interval(441.54310000000004, 441.9474, \"fly\"), Interval(441.9474, 442.8204, \"#\"), Interval(442.8204, 442.9854, \"then\"), Interval(442.9854, 443.09540000000004, \"he\"), Interval(443.09540000000004, 443.5552, \"cried\"), Interval(443.5552, 444.069, \"#\"), Interval(444.069, 444.4339, \"what\"), Interval(444.4339, 444.798, \"#\"), Interval(444.798, 444.913, \"you\"), Interval(444.913, 445.19300000000004, \"fell\"), Interval(445.19300000000004, 445.403, \"from\"), Interval(445.403, 445.463, \"the\"), Interval(445.463, 446.14290000000005, \"sky\"), Interval(446.14290000000005, 446.82120000000003, \"#\"), Interval(446.82120000000003, 447.44620000000003, \"yes\"), Interval(447.44620000000003, 447.55620000000005, \"i\"), Interval(447.55620000000005, 447.7962, \"said\"), Interval(447.7962, 448.3856, \"modestly\"), Interval(448.3856, 448.9991, \"#\"), Interval(448.9991, 449.32410000000004, \"oh\"), Interval(449.32410000000004, 449.6241, \"that\"), Interval(449.6241, 449.7841, \"s\"), Interval(449.7841, 450.5586, \"funny\"), Interval(450.5586, 451.3018, \"#\"), Interval(451.3018, 451.46680000000003, \"and\"), Interval(451.46680000000003, 451.5468, \"the\"), Interval(451.5468, 451.84680000000003, \"little\"), Interval(451.84680000000003, 452.44680000000005, \"prince\"), Interval(452.44680000000005, 452.6668, \"broke\"), Interval(452.6668, 452.89680000000004, \"into\"), Interval(452.89680000000004, 453.1168, \"a\"), Interval(453.1168, 453.6068, \"lovely\"), Interval(453.6068, 453.95680000000004, \"peal\"), Interval(453.95680000000004, 454.09680000000003, \"of\"), Interval(454.09680000000003, 454.9168, \"laughter\"), Interval(454.9168, 455.19680000000005, \"which\"), Interval(455.19680000000005, 455.7968, \"irritated\"), Interval(455.7968, 455.95680000000004, \"me\"), Interval(455.95680000000004, 456.33680000000004, \"very\"), Interval(456.33680000000004, 456.8195, \"much\"), Interval(456.8195, 457.4031, \"#\"), Interval(457.4031, 457.48810000000003, \"i\"), Interval(457.48810000000003, 457.84810000000004, \"prefer\"), Interval(457.84810000000004, 458.17810000000003, \"people\"), Interval(458.17810000000003, 458.28810000000004, \"to\"), Interval(458.28810000000004, 458.5681, \"take\"), Interval(458.5681, 458.72810000000004, \"my\"), Interval(458.72810000000004, 459.3881, \"misfortunes\"), Interval(459.3881, 460.17220000000003, \"seriously\"), Interval(460.17220000000003, 460.69100000000003, \"#\"), Interval(460.69100000000003, 460.87600000000003, \"then\"), Interval(460.87600000000003, 461.04600000000005, \"he\"), Interval(461.04600000000005, 461.4309, \"added\"), Interval(461.4309, 461.9048, \"#\"), Interval(461.9048, 462.0898, \"so\"), Interval(462.0898, 462.2998, \"you\"), Interval(462.2998, 462.81980000000004, \"also\"), Interval(462.81980000000004, 463.1198, \"come\"), Interval(463.1198, 463.31980000000004, \"from\"), Interval(463.31980000000004, 463.4098, \"the\"), Interval(463.4098, 463.93460000000005, \"sky\"), Interval(463.93460000000005, 464.5032, \"#\"), Interval(464.5032, 464.6182, \"what\"), Interval(464.6182, 465.00820000000004, \"planet\"), Interval(465.00820000000004, 465.0582, \"are\"), Interval(465.0582, 465.2782, \"you\"), Interval(465.2782, 465.6779, \"from\"), Interval(465.6779, 467.04470000000003, \"#\"), Interval(467.04470000000003, 467.14970000000005, \"i\"), Interval(467.14970000000005, 467.41970000000003, \"caught\"), Interval(467.41970000000003, 467.47970000000004, \"a\"), Interval(467.47970000000004, 468.0197, \"glimpse\"), Interval(468.0197, 468.2097, \"into\"), Interval(468.2097, 468.28970000000004, \"the\"), Interval(468.28970000000004, 468.7597, \"mystery\"), Interval(468.7597, 468.8197, \"of\"), Interval(468.8197, 468.9997, \"his\"), Interval(468.9997, 469.72970000000004, \"presence\"), Interval(469.72970000000004, 469.85970000000003, \"and\"), Interval(469.85970000000003, 469.90970000000004, \"i\"), Interval(469.90970000000004, 470.4297, \"asked\"), Interval(470.4297, 470.9879, \"abruptly\"), Interval(470.9879, 471.5964, \"#\"), Interval(471.5964, 471.7414, \"so\"), Interval(471.7414, 471.93140000000005, \"you\"), Interval(471.93140000000005, 472.1514, \"come\"), Interval(472.1514, 472.32140000000004, \"from\"), Interval(472.32140000000004, 472.5914, \"another\"), Interval(472.5914, 473.0414, \"planet\"), Interval(473.0414, 473.3211, \"then\"), Interval(473.3211, 474.12420000000003, \"#\"), Interval(474.12420000000003, 474.2292, \"but\"), Interval(474.2292, 474.3292, \"he\"), Interval(474.3292, 474.5692, \"didn\"), Interval(474.5692, 474.60920000000004, \"t\"), Interval(474.60920000000004, 475.0642, \"answer\"), Interval(475.0642, 475.75250000000005, \"#\"), Interval(475.75250000000005, 475.8475, \"he\"), Interval(475.8475, 476.1175, \"shook\"), Interval(476.1175, 476.27750000000003, \"his\"), Interval(476.27750000000003, 476.4875, \"head\"), Interval(476.4875, 477.0675, \"slowly\"), Interval(477.0675, 477.4175, \"whilst\"), Interval(477.4175, 477.6775, \"looking\"), Interval(477.6775, 477.77750000000003, \"at\"), Interval(477.77750000000003, 477.9475, \"my\"), Interval(477.9475, 478.52700000000004, \"airplane\"), Interval(478.52700000000004, 479.4149, \"#\"), Interval(479.4149, 479.5699, \"it\"), Interval(479.5699, 479.6499, \"s\"), Interval(479.6499, 479.9499, \"true\"), Interval(479.9499, 480.1299, \"that\"), Interval(480.1299, 480.21990000000005, \"you\"), Interval(480.21990000000005, 480.5399, \"can\"), Interval(480.5399, 480.5799, \"t\"), Interval(480.5799, 480.6999, \"have\"), Interval(480.6999, 480.96990000000005, \"come\"), Interval(480.96990000000005, 481.17990000000003, \"from\"), Interval(481.17990000000003, 481.5299, \"far\"), Interval(481.5299, 481.79990000000004, \"away\"), Interval(481.79990000000004, 482.0199, \"in\"), Interval(482.0199, 482.24420000000003, \"that\"), Interval(482.24420000000003, 483.5667, \"#\"), Interval(483.5667, 483.7117, \"and\"), Interval(483.7117, 483.8317, \"he\"), Interval(483.8317, 484.2817, \"drifted\"), Interval(484.2817, 484.5217, \"into\"), Interval(484.5217, 484.5917, \"a\"), Interval(484.5917, 485.2017, \"daydream\"), Interval(485.2017, 485.3917, \"which\"), Interval(485.3917, 485.7917, \"lasted\"), Interval(485.7917, 485.86170000000004, \"a\"), Interval(485.86170000000004, 486.2517, \"long\"), Interval(486.2517, 486.70120000000003, \"while\"), Interval(486.70120000000003, 487.4694, \"#\"), Interval(487.4694, 487.7944, \"then\"), Interval(487.7944, 488.24440000000004, \"taking\"), Interval(488.24440000000004, 488.44440000000003, \"my\"), Interval(488.44440000000003, 488.7644, \"sheep\"), Interval(488.7644, 488.9544, \"out\"), Interval(488.9544, 489.0244, \"of\"), Interval(489.0244, 489.1744, \"his\"), Interval(489.1744, 489.6186, \"pocket\"), Interval(489.6186, 489.9279, \"#\"), Interval(489.9279, 490.03290000000004, \"he\"), Interval(490.03290000000004, 490.3729, \"sank\"), Interval(490.3729, 490.8029, \"himself\"), Interval(490.8029, 491.0029, \"into\"), Interval(491.0029, 491.0829, \"the\"), Interval(491.0829, 491.9429, \"contemplation\"), Interval(491.9429, 492.03290000000004, \"of\"), Interval(492.03290000000004, 492.23290000000003, \"his\"), Interval(492.23290000000003, 492.6723, \"treasure\"), Interval(492.6723, 493.3407, \"#\"), Interval(493.3407, 493.6557, \"you\"), Interval(493.6557, 493.87570000000005, \"can\"), Interval(493.87570000000005, 494.4357, \"imagine\"), Interval(494.4357, 494.75570000000005, \"how\"), Interval(494.75570000000005, 494.89570000000003, \"my\"), Interval(494.89570000000003, 495.6557, \"curiosity\"), Interval(495.6557, 495.83570000000003, \"was\"), Interval(495.83570000000003, 496.50570000000005, \"aroused\"), Interval(496.50570000000005, 496.6957, \"by\"), Interval(496.6957, 496.9057, \"this\"), Interval(496.9057, 497.3157, \"small\"), Interval(497.3157, 498.02570000000003, \"disclosure\"), Interval(498.02570000000003, 498.3457, \"about\"), Interval(498.3457, 498.4857, \"\\` the\"), Interval(498.4857, 498.8057, \"other\"), Interval(498.8057, 499.43330000000003, \"planets\"), Interval(499.43330000000003, 499.94210000000004, \"#\"), Interval(499.94210000000004, 500.0871, \"so\"), Interval(500.0871, 500.18710000000004, \"i\"), Interval(500.18710000000004, 500.4571, \"tried\"), Interval(500.4571, 500.5271, \"to\"), Interval(500.5271, 500.81710000000004, \"find\"), Interval(500.81710000000004, 501.0271, \"out\"), Interval(501.0271, 501.3419, \"more\"), Interval(501.3419, 502.33950000000004, \"#\"), Interval(502.33950000000004, 502.5045, \"where\"), Interval(502.5045, 502.5645, \"are\"), Interval(502.5645, 502.7545, \"you\"), Interval(502.7545, 503.1345, \"from\"), Interval(503.1345, 503.2345, \"my\"), Interval(503.2345, 503.4945, \"little\"), Interval(503.4945, 503.9443, \"fellow\"), Interval(503.9443, 504.62760000000003, \"#\"), Interval(504.62760000000003, 504.9226, \"where\"), Interval(504.9226, 505.0426, \"s\"), Interval(505.0426, 505.4126, \"this\"), Interval(505.4126, 505.81260000000003, \"\\` where\"), Interval(505.81260000000003, 505.99260000000004, \"i\"), Interval(505.99260000000004, 506.1326, \"live\"), Interval(506.1326, 506.2626, \"of\"), Interval(506.2626, 506.4226, \"of\"), Interval(506.4226, 506.95210000000003, \"yours\"), Interval(506.95210000000003, 507.396, \"#\"), Interval(507.396, 507.591, \"where\"), Interval(507.591, 507.69100000000003, \"do\"), Interval(507.69100000000003, 507.771, \"you\"), Interval(507.771, 508.04100000000005, \"take\"), Interval(508.04100000000005, 508.221, \"my\"), Interval(508.221, 508.581, \"sheep\"), Interval(508.581, 508.781, \"off\"), Interval(508.781, 509.0455, \"to\"), Interval(509.0455, 510.43230000000005, \"#\"), Interval(510.43230000000005, 510.8373, \"after\"), Interval(510.8373, 510.8673, \"a\"), Interval(510.8673, 511.43730000000005, \"reflective\"), Interval(511.43730000000005, 511.9673, \"silence\"), Interval(511.9673, 512.0973, \"he\"), Interval(512.0973, 512.5568000000001, \"answered\"), Interval(512.5568000000001, 513.4996, \"#\"), Interval(513.4996, 513.7046, \"what\"), Interval(513.7046, 513.8946000000001, \"s\"), Interval(513.8946000000001, 514.0846, \"good\"), Interval(514.0846, 514.4346, \"about\"), Interval(514.4346, 514.5446000000001, \"the\"), Interval(514.5446000000001, 514.9246, \"box\"), Interval(514.9246, 515.0246, \"you\"), Interval(515.0246, 515.0946, \"ve\"), Interval(515.0946, 515.7185000000001, \"given\"), Interval(515.7185000000001, 516.0227, \"#\"), Interval(516.0227, 516.2277, \"is\"), Interval(516.2277, 516.3677, \"that\"), Interval(516.3677, 516.5077, \"at\"), Interval(516.5077, 516.9777, \"night\"), Interval(516.9777, 517.0977, \"he\"), Interval(517.0977, 517.2577, \"can\"), Interval(517.2577, 517.4777, \"use\"), Interval(517.4777, 517.5577000000001, \"it\"), Interval(517.5577000000001, 517.7077, \"as\"), Interval(517.7077, 517.7577, \"a\"), Interval(517.7577, 518.3524, \"house\"), Interval(518.3524, 519.0608, \"#\"), Interval(519.0608, 519.2158000000001, \"that\"), Interval(519.2158000000001, 519.3058, \"s\"), Interval(519.3058, 519.6156000000001, \"right\"), Interval(519.6156000000001, 520.0695000000001, \"#\"), Interval(520.0695000000001, 520.2645, \"and\"), Interval(520.2645, 520.3845, \"if\"), Interval(520.3845, 520.4945, \"you\"), Interval(520.4945, 520.5745000000001, \"re\"), Interval(520.5745000000001, 520.8444000000001, \"good\"), Interval(520.8444000000001, 521.2035000000001, \"#\"), Interval(521.2035000000001, 521.2485, \"i\"), Interval(521.2485, 521.3085, \"ll\"), Interval(521.3085, 521.5185, \"give\"), Interval(521.5185, 521.6985, \"you\"), Interval(521.6985, 521.7685, \"a\"), Interval(521.7685, 522.0185, \"rope\"), Interval(522.0185, 522.1485, \"to\"), Interval(522.1485, 522.4385, \"tie\"), Interval(522.4385, 522.5485, \"him\"), Interval(522.5485, 522.7485, \"up\"), Interval(522.7485, 522.9085, \"with\"), Interval(522.9085, 523.1985, \"during\"), Interval(523.1985, 523.2885, \"the\"), Interval(523.2885, 523.6177, \"day\"), Interval(523.6177, 523.9419, \"#\"), Interval(523.9419, 524.0969, \"and\"), Interval(524.0969, 524.1269, \"a\"), Interval(524.1269, 524.5666, \"stake\"), Interval(524.5666, 525.5493, \"#\"), Interval(525.5493, 525.6443, \"the\"), Interval(525.6443, 525.9543, \"offer\"), Interval(525.9543, 526.2543000000001, \"seemed\"), Interval(526.2543000000001, 526.3243, \"to\"), Interval(526.3243, 526.7243000000001, \"shock\"), Interval(526.7243000000001, 526.8143, \"the\"), Interval(526.8143, 527.0343, \"little\"), Interval(527.0343, 527.5087, \"prince\"), Interval(527.5087, 527.9876, \"#\"), Interval(527.9876, 528.1126, \"tie\"), Interval(528.1126, 528.1726, \"him\"), Interval(528.1726, 528.7624000000001, \"up\"), Interval(528.7624000000001, 529.3161, \"#\"), Interval(529.3161, 529.5311, \"what\"), Interval(529.5311, 529.5611, \"a\"), Interval(529.5611, 529.9011, \"funny\"), Interval(529.9011, 530.5659, \"idea\"), Interval(530.5659, 531.3291, \"#\"), Interval(531.3291, 531.4441, \"but\"), Interval(531.4441, 531.5641, \"if\"), Interval(531.5641, 531.6341, \"you\"), Interval(531.6341, 531.9041, \"don\"), Interval(531.9041, 531.9441, \"t\"), Interval(531.9441, 532.0641, \"tie\"), Interval(532.0641, 532.2641, \"him\"), Interval(532.2641, 532.4441, \"up\"), Interval(532.4441, 532.5641, \"he\"), Interval(532.5641, 532.6941, \"ll\"), Interval(532.6941, 532.9841, \"wander\"), Interval(532.9841, 533.3441, \"off\"), Interval(533.3441, 533.4641, \"and\"), Interval(533.4641, 533.6341, \"get\"), Interval(533.6341, 534.1184000000001, \"lost\"), Interval(534.1184000000001, 535.1061, \"#\"), Interval(535.1061, 535.2911, \"my\"), Interval(535.2911, 535.6911, \"friend\"), Interval(535.6911, 535.9811, \"broke\"), Interval(535.9811, 536.2111, \"into\"), Interval(536.2111, 536.5811, \"another\"), Interval(536.5811, 536.9711, \"peal\"), Interval(536.9711, 537.1011000000001, \"of\"), Interval(537.1011000000001, 537.5852, \"laughter\"), Interval(537.5852, 538.2386, \"#\"), Interval(538.2386, 538.3936, \"where\"), Interval(538.3936, 538.5836, \"do\"), Interval(538.5836, 538.6836000000001, \"you\"), Interval(538.6836000000001, 539.0536, \"think\"), Interval(539.0536, 539.1736000000001, \"he\"), Interval(539.1736000000001, 539.5436, \"d\"), Interval(539.5436, 539.878, \"go\"), Interval(539.878, 540.4666, \"#\"), Interval(540.4666, 540.9666, \"anywhere\"), Interval(540.9666, 541.2858, \"#\"), Interval(541.2858, 541.6108, \"straight\"), Interval(541.6108, 542.0557, \"ahead\"), Interval(542.0557, 542.9786, \"#\"), Interval(542.9786, 543.2736, \"then\"), Interval(543.2736, 543.3836, \"the\"), Interval(543.3836, 543.5936, \"little\"), Interval(543.5936, 543.9336000000001, \"prince\"), Interval(543.9336000000001, 544.2436, \"said\"), Interval(544.2436, 544.813, \"gravely\"), Interval(544.813, 545.4216, \"#\"), Interval(545.4216, 545.5766, \"that\"), Interval(545.5766, 545.8566000000001, \"doesn\"), Interval(545.8566000000001, 545.8866, \"t\"), Interval(545.8866, 546.3663, \"matter\"), Interval(546.3663, 546.9549, \"#\"), Interval(546.9549, 547.1399, \"where\"), Interval(547.1399, 547.4199, \"i\"), Interval(547.4199, 547.6199, \"live\"), Interval(547.6199, 548.0899000000001, \"everything\"), Interval(548.0899000000001, 548.2099000000001, \"is\"), Interval(548.2099000000001, 548.4599000000001, \"so\"), Interval(548.4599000000001, 549.0397, \"small\"), Interval(549.0397, 549.9076, \"#\"), Interval(549.9076, 550.0726, \"and\"), Interval(550.0726, 550.5726, \"perhaps\"), Interval(550.5726, 550.7026000000001, \"with\"), Interval(550.7026000000001, 550.7526, \"a\"), Interval(550.7526, 551.0426, \"hint\"), Interval(551.0426, 551.1226, \"of\"), Interval(551.1226, 551.6326, \"sadness\"), Interval(551.6326, 551.7726, \"he\"), Interval(551.7726, 552.1571, \"added\"), Interval(552.1571, 552.8105, \"#\"), Interval(552.8105, 553.1455000000001, \"straight\"), Interval(553.1455000000001, 553.5555, \"ahead\"), Interval(553.5555, 553.6555000000001, \"you\"), Interval(553.6555000000001, 553.9655, \"can\"), Interval(553.9655, 553.9955, \"t\"), Interval(553.9955, 554.1855, \"go\"), Interval(554.1855, 554.6296, \"far\"), Interval(554.6296, 554.7, \"#\")])]"
            ]
          },
          "execution_count": 16,
          "metadata": {},
          "output_type": "execute_result"
        }
      ],
      "source": [
        "# textgrid annotations\n",
        "sec1_en_tg = tgt.io.read_textgrid('/project/gpuuva021/shared/FMRI-Data/annotation/EN/lppEN_section1.TextGrid')\n",
        "sec1_en_tg.tiers"
      ]
    }
  ],
  "metadata": {
    "colab": {
      "provenance": []
    },
    "kernelspec": {
      "display_name": "Python 3",
      "name": "python3"
    },
    "language_info": {
      "codemirror_mode": {
        "name": "ipython",
        "version": 3
      },
      "file_extension": ".py",
      "mimetype": "text/x-python",
      "name": "python",
      "nbconvert_exporter": "python",
      "pygments_lexer": "ipython3",
      "version": "3.8.8"
    },
    "widgets": {
      "application/vnd.jupyter.widget-state+json": {
        "0aca2d9a2cf945f69b93f6a07ffa3d5f": {
          "model_module": "@jupyter-widgets/controls",
          "model_module_version": "1.5.0",
          "model_name": "FloatProgressModel",
          "state": {
            "_dom_classes": [],
            "_model_module": "@jupyter-widgets/controls",
            "_model_module_version": "1.5.0",
            "_model_name": "FloatProgressModel",
            "_view_count": null,
            "_view_module": "@jupyter-widgets/controls",
            "_view_module_version": "1.5.0",
            "_view_name": "ProgressView",
            "bar_style": "success",
            "description": "",
            "description_tooltip": null,
            "layout": "IPY_MODEL_e4b0e22801b44819b4308706b3ea1028",
            "max": 1,
            "min": 0,
            "orientation": "horizontal",
            "style": "IPY_MODEL_3558e743759445f38f7335a27274a036",
            "value": 1
          }
        },
        "11a14e9009034b5b99adde7866203b1c": {
          "model_module": "@jupyter-widgets/base",
          "model_module_version": "1.2.0",
          "model_name": "LayoutModel",
          "state": {
            "_model_module": "@jupyter-widgets/base",
            "_model_module_version": "1.2.0",
            "_model_name": "LayoutModel",
            "_view_count": null,
            "_view_module": "@jupyter-widgets/base",
            "_view_module_version": "1.2.0",
            "_view_name": "LayoutView",
            "align_content": null,
            "align_items": null,
            "align_self": null,
            "border": null,
            "bottom": null,
            "display": null,
            "flex": null,
            "flex_flow": null,
            "grid_area": null,
            "grid_auto_columns": null,
            "grid_auto_flow": null,
            "grid_auto_rows": null,
            "grid_column": null,
            "grid_gap": null,
            "grid_row": null,
            "grid_template_areas": null,
            "grid_template_columns": null,
            "grid_template_rows": null,
            "height": null,
            "justify_content": null,
            "justify_items": null,
            "left": null,
            "margin": null,
            "max_height": null,
            "max_width": null,
            "min_height": null,
            "min_width": null,
            "object_fit": null,
            "object_position": null,
            "order": null,
            "overflow": null,
            "overflow_x": null,
            "overflow_y": null,
            "padding": null,
            "right": null,
            "top": null,
            "visibility": null,
            "width": null
          }
        },
        "2b0eac14df564caaaa2826ce4bc2d103": {
          "model_module": "@jupyter-widgets/controls",
          "model_module_version": "1.5.0",
          "model_name": "DescriptionStyleModel",
          "state": {
            "_model_module": "@jupyter-widgets/controls",
            "_model_module_version": "1.5.0",
            "_model_name": "DescriptionStyleModel",
            "_view_count": null,
            "_view_module": "@jupyter-widgets/base",
            "_view_module_version": "1.2.0",
            "_view_name": "StyleView",
            "description_width": ""
          }
        },
        "3558e743759445f38f7335a27274a036": {
          "model_module": "@jupyter-widgets/controls",
          "model_module_version": "1.5.0",
          "model_name": "ProgressStyleModel",
          "state": {
            "_model_module": "@jupyter-widgets/controls",
            "_model_module_version": "1.5.0",
            "_model_name": "ProgressStyleModel",
            "_view_count": null,
            "_view_module": "@jupyter-widgets/base",
            "_view_module_version": "1.2.0",
            "_view_name": "StyleView",
            "bar_color": null,
            "description_width": ""
          }
        },
        "6fbd71fa7e494f2da56b515b7965a415": {
          "model_module": "@jupyter-widgets/controls",
          "model_module_version": "1.5.0",
          "model_name": "HTMLModel",
          "state": {
            "_dom_classes": [],
            "_model_module": "@jupyter-widgets/controls",
            "_model_module_version": "1.5.0",
            "_model_name": "HTMLModel",
            "_view_count": null,
            "_view_module": "@jupyter-widgets/controls",
            "_view_module_version": "1.5.0",
            "_view_name": "HTMLView",
            "description": "",
            "description_tooltip": null,
            "layout": "IPY_MODEL_9f68c1e484594d4184dfb764ff921770",
            "placeholder": "​",
            "style": "IPY_MODEL_2b0eac14df564caaaa2826ce4bc2d103",
            "value": "📁 Traversing directories for ds003643 : "
          }
        },
        "7eef1a4f94944079a37ab0ab9c35326b": {
          "model_module": "@jupyter-widgets/controls",
          "model_module_version": "1.5.0",
          "model_name": "HBoxModel",
          "state": {
            "_dom_classes": [],
            "_model_module": "@jupyter-widgets/controls",
            "_model_module_version": "1.5.0",
            "_model_name": "HBoxModel",
            "_view_count": null,
            "_view_module": "@jupyter-widgets/controls",
            "_view_module_version": "1.5.0",
            "_view_name": "HBoxView",
            "box_style": "",
            "children": [
              "IPY_MODEL_6fbd71fa7e494f2da56b515b7965a415",
              "IPY_MODEL_0aca2d9a2cf945f69b93f6a07ffa3d5f",
              "IPY_MODEL_d05708262f574a17a0679c9754aa723e"
            ],
            "layout": "IPY_MODEL_e200e873065044a092f7c0c3b15abf2c"
          }
        },
        "8a839ca4d4dc4a2fb7c92a36068acdd3": {
          "model_module": "@jupyter-widgets/controls",
          "model_module_version": "1.5.0",
          "model_name": "DescriptionStyleModel",
          "state": {
            "_model_module": "@jupyter-widgets/controls",
            "_model_module_version": "1.5.0",
            "_model_name": "DescriptionStyleModel",
            "_view_count": null,
            "_view_module": "@jupyter-widgets/base",
            "_view_module_version": "1.2.0",
            "_view_name": "StyleView",
            "description_width": ""
          }
        },
        "9f68c1e484594d4184dfb764ff921770": {
          "model_module": "@jupyter-widgets/base",
          "model_module_version": "1.2.0",
          "model_name": "LayoutModel",
          "state": {
            "_model_module": "@jupyter-widgets/base",
            "_model_module_version": "1.2.0",
            "_model_name": "LayoutModel",
            "_view_count": null,
            "_view_module": "@jupyter-widgets/base",
            "_view_module_version": "1.2.0",
            "_view_name": "LayoutView",
            "align_content": null,
            "align_items": null,
            "align_self": null,
            "border": null,
            "bottom": null,
            "display": null,
            "flex": null,
            "flex_flow": null,
            "grid_area": null,
            "grid_auto_columns": null,
            "grid_auto_flow": null,
            "grid_auto_rows": null,
            "grid_column": null,
            "grid_gap": null,
            "grid_row": null,
            "grid_template_areas": null,
            "grid_template_columns": null,
            "grid_template_rows": null,
            "height": null,
            "justify_content": null,
            "justify_items": null,
            "left": null,
            "margin": null,
            "max_height": null,
            "max_width": null,
            "min_height": null,
            "min_width": null,
            "object_fit": null,
            "object_position": null,
            "order": null,
            "overflow": null,
            "overflow_x": null,
            "overflow_y": null,
            "padding": null,
            "right": null,
            "top": null,
            "visibility": null,
            "width": null
          }
        },
        "d05708262f574a17a0679c9754aa723e": {
          "model_module": "@jupyter-widgets/controls",
          "model_module_version": "1.5.0",
          "model_name": "HTMLModel",
          "state": {
            "_dom_classes": [],
            "_model_module": "@jupyter-widgets/controls",
            "_model_module_version": "1.5.0",
            "_model_name": "HTMLModel",
            "_view_count": null,
            "_view_module": "@jupyter-widgets/controls",
            "_view_module_version": "1.5.0",
            "_view_name": "HTMLView",
            "description": "",
            "description_tooltip": null,
            "layout": "IPY_MODEL_11a14e9009034b5b99adde7866203b1c",
            "placeholder": "​",
            "style": "IPY_MODEL_8a839ca4d4dc4a2fb7c92a36068acdd3",
            "value": " 7314/? [02:00&lt;00:00, 79.60 entities/s]"
          }
        },
        "e200e873065044a092f7c0c3b15abf2c": {
          "model_module": "@jupyter-widgets/base",
          "model_module_version": "1.2.0",
          "model_name": "LayoutModel",
          "state": {
            "_model_module": "@jupyter-widgets/base",
            "_model_module_version": "1.2.0",
            "_model_name": "LayoutModel",
            "_view_count": null,
            "_view_module": "@jupyter-widgets/base",
            "_view_module_version": "1.2.0",
            "_view_name": "LayoutView",
            "align_content": null,
            "align_items": null,
            "align_self": null,
            "border": null,
            "bottom": null,
            "display": null,
            "flex": null,
            "flex_flow": null,
            "grid_area": null,
            "grid_auto_columns": null,
            "grid_auto_flow": null,
            "grid_auto_rows": null,
            "grid_column": null,
            "grid_gap": null,
            "grid_row": null,
            "grid_template_areas": null,
            "grid_template_columns": null,
            "grid_template_rows": null,
            "height": null,
            "justify_content": null,
            "justify_items": null,
            "left": null,
            "margin": null,
            "max_height": null,
            "max_width": null,
            "min_height": null,
            "min_width": null,
            "object_fit": null,
            "object_position": null,
            "order": null,
            "overflow": null,
            "overflow_x": null,
            "overflow_y": null,
            "padding": null,
            "right": null,
            "top": null,
            "visibility": null,
            "width": null
          }
        },
        "e4b0e22801b44819b4308706b3ea1028": {
          "model_module": "@jupyter-widgets/base",
          "model_module_version": "1.2.0",
          "model_name": "LayoutModel",
          "state": {
            "_model_module": "@jupyter-widgets/base",
            "_model_module_version": "1.2.0",
            "_model_name": "LayoutModel",
            "_view_count": null,
            "_view_module": "@jupyter-widgets/base",
            "_view_module_version": "1.2.0",
            "_view_name": "LayoutView",
            "align_content": null,
            "align_items": null,
            "align_self": null,
            "border": null,
            "bottom": null,
            "display": null,
            "flex": null,
            "flex_flow": null,
            "grid_area": null,
            "grid_auto_columns": null,
            "grid_auto_flow": null,
            "grid_auto_rows": null,
            "grid_column": null,
            "grid_gap": null,
            "grid_row": null,
            "grid_template_areas": null,
            "grid_template_columns": null,
            "grid_template_rows": null,
            "height": null,
            "justify_content": null,
            "justify_items": null,
            "left": null,
            "margin": null,
            "max_height": null,
            "max_width": null,
            "min_height": null,
            "min_width": null,
            "object_fit": null,
            "object_position": null,
            "order": null,
            "overflow": null,
            "overflow_x": null,
            "overflow_y": null,
            "padding": null,
            "right": null,
            "top": null,
            "visibility": null,
            "width": "20px"
          }
        }
      }
    }
  },
  "nbformat": 4,
  "nbformat_minor": 0
}
