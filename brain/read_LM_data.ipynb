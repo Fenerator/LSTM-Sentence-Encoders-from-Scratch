{
 "cells": [
  {
   "cell_type": "code",
   "execution_count": 3,
   "metadata": {},
   "outputs": [
    {
     "name": "stderr",
     "output_type": "stream",
     "text": [
      "/home/lcur1142/.conda/envs/atcs/lib/python3.8/site-packages/tqdm/auto.py:21: TqdmWarning: IProgress not found. Please update jupyter and ipywidgets. See https://ipywidgets.readthedocs.io/en/stable/user_install.html\n",
      "  from .autonotebook import tqdm as notebook_tqdm\n"
     ]
    }
   ],
   "source": [
    "import pickle\n",
    "import torch"
   ]
  },
  {
   "cell_type": "code",
   "execution_count": 2,
   "metadata": {},
   "outputs": [
    {
     "name": "stdout",
     "output_type": "stream",
     "text": [
      "Collecting protobuf\n",
      "  Downloading protobuf-4.23.2-cp37-abi3-manylinux2014_x86_64.whl (304 kB)\n",
      "\u001b[2K     \u001b[90m━━━━━━━━━━━━━━━━━━━━━━━━━━━━━━━━━━━━━━\u001b[0m \u001b[32m304.5/304.5 kB\u001b[0m \u001b[31m17.6 MB/s\u001b[0m eta \u001b[36m0:00:00\u001b[0m\n",
      "\u001b[?25hInstalling collected packages: protobuf\n",
      "Successfully installed protobuf-4.23.2\n"
     ]
    }
   ],
   "source": [
    "!pip install protobuf"
   ]
  },
  {
   "cell_type": "code",
   "execution_count": 2,
   "metadata": {},
   "outputs": [],
   "source": [
    "# READ Chunks\n",
    "EMB_PATH = '/project/gpuuva021/shared/FMRI-Data/aligned/EN_hidden_states_chunk_size_2.pickle'\n",
    "TEXT_PATH = '/project/gpuuva021/shared/FMRI-Data/text_data/EN_chunk_data_chunk_size_2.pickle'"
   ]
  },
  {
   "cell_type": "code",
   "execution_count": 11,
   "metadata": {},
   "outputs": [],
   "source": [
    "# read text data\n",
    "TEXT_PATH_CN = '/project/gpuuva021/shared/FMRI-Data/text_data/CN_chunk_data_chunk_size_2.pickle'\n",
    "with open(TEXT_PATH, 'rb') as p:\n",
    "    text_data = pickle.load(p)\n",
    "\n",
    "with open(TEXT_PATH_CN, 'rb') as p:\n",
    "    text_data_CN = pickle.load(p)\n"
   ]
  },
  {
   "cell_type": "code",
   "execution_count": 13,
   "metadata": {},
   "outputs": [
    {
     "name": "stdout",
     "output_type": "stream",
     "text": [
      "9 65 dict_keys(['sentences', 'onset', 'offset', 'section'])\n",
      "9 72 dict_keys(['sentences', 'onset', 'offset', 'section'])\n"
     ]
    }
   ],
   "source": [
    "print(len(text_data), len(text_data[0]), text_data[0][0].keys())\n",
    "print(len(text_data_CN), len(text_data_CN[0]), text_data_CN[0][0].keys())\n",
    "\n",
    "# sections, chuncks, keys (sentences', 'onset', 'offset', 'section')"
   ]
  },
  {
   "cell_type": "code",
   "execution_count": 5,
   "metadata": {},
   "outputs": [
    {
     "data": {
      "text/plain": [
       "('once when i was six years old i saw a magnificent picture in a book about the primeval forest called real life stories. it showed a boa constrictor swallowing a wild animal. ',\n",
       " 0.113,\n",
       " 12.416,\n",
       " 1)"
      ]
     },
     "execution_count": 5,
     "metadata": {},
     "output_type": "execute_result"
    }
   ],
   "source": [
    "text_data[0][0]['sentences'], text_data[0][0]['onset'], text_data[0][0]['offset'], text_data[0][0]['section']"
   ]
  },
  {
   "cell_type": "code",
   "execution_count": 7,
   "metadata": {},
   "outputs": [
    {
     "data": {
      "text/plain": [
       "(9, 13, torch.Size([13, 65, 150, 768]))"
      ]
     },
     "execution_count": 7,
     "metadata": {},
     "output_type": "execute_result"
    }
   ],
   "source": [
    "# load embeddings\n",
    "with open(EMB_PATH, 'rb') as p:\n",
    "    emb_data = pickle.load(p)\n",
    "\n",
    "# list of sections, batches. Each obj has shape: batch_size, sequence_length, hidden_size)\n",
    "len(emb_data), len(emb_data[0]), emb_data[0].shape"
   ]
  },
  {
   "cell_type": "code",
   "execution_count": null,
   "metadata": {},
   "outputs": [],
   "source": []
  }
 ],
 "metadata": {
  "kernelspec": {
   "display_name": "Python 3",
   "language": "python",
   "name": "python3"
  },
  "language_info": {
   "codemirror_mode": {
    "name": "ipython",
    "version": 3
   },
   "file_extension": ".py",
   "mimetype": "text/x-python",
   "name": "python",
   "nbconvert_exporter": "python",
   "pygments_lexer": "ipython3",
   "version": "3.8.16"
  },
  "orig_nbformat": 4
 },
 "nbformat": 4,
 "nbformat_minor": 2
}
