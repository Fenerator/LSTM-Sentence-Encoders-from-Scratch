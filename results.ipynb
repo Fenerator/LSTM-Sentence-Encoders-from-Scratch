{
 "cells": [
  {
   "attachments": {},
   "cell_type": "markdown",
   "metadata": {},
   "source": [
    "# Load a Model, Test it on SNLI test set"
   ]
  },
  {
   "cell_type": "code",
   "execution_count": null,
   "metadata": {},
   "outputs": [],
   "source": [
    "# using argparse:\n",
    "!python train.py --mode test --optimizer adam --sent_encoder_model bilstmmax"
   ]
  },
  {
   "cell_type": "code",
   "execution_count": null,
   "metadata": {},
   "outputs": [],
   "source": [
    "# using jupyter notebook:\n",
    "from train import SentenceClassification\n",
    "\n",
    "# set parameters\n",
    "sent_encoder_model = \"bilstmmax\"\n",
    "optimizer = \"adam\" # or \"sgd\"\n",
    "trainer = SentenceClassification(sent_encoder_model=sent_encoder_model, epochs=max_epochs, seed=seed, resume_training=resume_training, verbose=False, optimizer_name=optimizer)\n",
    "\n",
    "# testing\n",
    "trainer.test_model()"
   ]
  },
  {
   "attachments": {},
   "cell_type": "markdown",
   "metadata": {},
   "source": [
    "## Inference Example"
   ]
  },
  {
   "cell_type": "code",
   "execution_count": null,
   "metadata": {},
   "outputs": [],
   "source": [
    "output = trainer.infer(\"The cat is on the mat\", \"The cat is on the mat\")\n",
    "\n",
    "print(f'Predicted Class: {output[\"label\"]}')\n",
    "print(f'Scores: {output[\"output\"]}')"
   ]
  },
  {
   "attachments": {},
   "cell_type": "markdown",
   "metadata": {},
   "source": [
    "# Results\n"
   ]
  }
 ],
 "metadata": {
  "kernelspec": {
   "display_name": "atcs",
   "language": "python",
   "name": "python3"
  },
  "language_info": {
   "codemirror_mode": {
    "name": "ipython",
    "version": 3
   },
   "file_extension": ".py",
   "mimetype": "text/x-python",
   "name": "python",
   "nbconvert_exporter": "python",
   "pygments_lexer": "ipython3",
   "version": "3.8.15"
  },
  "orig_nbformat": 4,
  "vscode": {
   "interpreter": {
    "hash": "aab988731cbda623169dfc26202afe786fd30eddfced3be2739c81f0a1ed0a74"
   }
  }
 },
 "nbformat": 4,
 "nbformat_minor": 2
}
